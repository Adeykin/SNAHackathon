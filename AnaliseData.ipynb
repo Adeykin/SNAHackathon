{
 "cells": [
  {
   "cell_type": "code",
   "execution_count": 1,
   "metadata": {},
   "outputs": [],
   "source": [
    "import numpy as np\n",
    "import os\n",
    "import pandas as pd\n",
    "import pyarrow.parquet as parquet"
   ]
  },
  {
   "cell_type": "code",
   "execution_count": 2,
   "metadata": {},
   "outputs": [],
   "source": [
    "import matplotlib.pyplot as plt\n",
    "%matplotlib inline  "
   ]
  },
  {
   "cell_type": "code",
   "execution_count": 3,
   "metadata": {},
   "outputs": [],
   "source": [
    "testDataPath = '/home/adeykin/projects/SNAHackaton/imagesTest'\n",
    "trainDataPath = '/home/adeykin/projects/SNAHackaton/imagesTrain'"
   ]
  },
  {
   "cell_type": "code",
   "execution_count": 4,
   "metadata": {},
   "outputs": [
    {
     "data": {
      "text/plain": [
       "<pyarrow._parquet.ParquetSchema object at 0x7fa3bdaa68d0>\n",
       "instanceId_userId: INT32\n",
       "instanceId_objectType: BYTE_ARRAY UTF8\n",
       "instanceId_objectId: INT32\n",
       "audit_clientType: BYTE_ARRAY UTF8\n",
       "audit_timestamp: INT64\n",
       "metadata_ownerId: INT32\n",
       "metadata_createdAt: INT64\n",
       "ImageId.list.element: BYTE_ARRAY UTF8\n",
       "date: BYTE_ARRAY UTF8\n",
       " "
      ]
     },
     "execution_count": 4,
     "metadata": {},
     "output_type": "execute_result"
    }
   ],
   "source": [
    "# Read the test data\n",
    "#test = parquet.read_table(testDataPath, columns = ['instanceId_userId', 'instanceId_objectId','ImageId']).to_pandas()\n",
    "#est = parquet.read_table(testDataPath).to_pandas()\n",
    "#test = parquet.read_metadata(testDataPath).to_pandas()\n",
    "pqFile = parquet.ParquetFile(testDataPath + '/_metadata')\n",
    "pqFile.schema\n",
    "\n",
    "#est.head(10)\n",
    "#test"
   ]
  },
  {
   "cell_type": "code",
   "execution_count": 5,
   "metadata": {},
   "outputs": [
    {
     "data": {
      "text/plain": [
       "<pyarrow._parquet.ParquetSchema object at 0x7f240f6e8b00>\n",
       "instanceId_userId: INT32\n",
       "instanceId_objectType: BYTE_ARRAY UTF8\n",
       "instanceId_objectId: INT32\n",
       "feedback.list.element: BYTE_ARRAY UTF8\n",
       "audit_clientType: BYTE_ARRAY UTF8\n",
       "audit_timestamp: INT64\n",
       "metadata_ownerId: INT32\n",
       "metadata_createdAt: INT64\n",
       "ImageId.list.element: BYTE_ARRAY UTF8\n",
       " "
      ]
     },
     "execution_count": 5,
     "metadata": {},
     "output_type": "execute_result"
    }
   ],
   "source": [
    "pqFile = parquet.ParquetFile(trainDataPath + '/_metadata')\n",
    "pqFile.schema"
   ]
  },
  {
   "cell_type": "code",
   "execution_count": 18,
   "metadata": {},
   "outputs": [
    {
     "data": {
      "text/html": [
       "<div>\n",
       "<style scoped>\n",
       "    .dataframe tbody tr th:only-of-type {\n",
       "        vertical-align: middle;\n",
       "    }\n",
       "\n",
       "    .dataframe tbody tr th {\n",
       "        vertical-align: top;\n",
       "    }\n",
       "\n",
       "    .dataframe thead th {\n",
       "        text-align: right;\n",
       "    }\n",
       "</style>\n",
       "<table border=\"1\" class=\"dataframe\">\n",
       "  <thead>\n",
       "    <tr style=\"text-align: right;\">\n",
       "      <th></th>\n",
       "      <th>instanceId_userId</th>\n",
       "      <th>instanceId_objectId</th>\n",
       "      <th>date</th>\n",
       "    </tr>\n",
       "  </thead>\n",
       "  <tbody>\n",
       "    <tr>\n",
       "      <th>0</th>\n",
       "      <td>116</td>\n",
       "      <td>28780736</td>\n",
       "      <td>2018-02-01</td>\n",
       "    </tr>\n",
       "    <tr>\n",
       "      <th>1</th>\n",
       "      <td>353</td>\n",
       "      <td>26245790</td>\n",
       "      <td>2018-02-01</td>\n",
       "    </tr>\n",
       "    <tr>\n",
       "      <th>2</th>\n",
       "      <td>707</td>\n",
       "      <td>12497594</td>\n",
       "      <td>2018-02-01</td>\n",
       "    </tr>\n",
       "    <tr>\n",
       "      <th>3</th>\n",
       "      <td>1724</td>\n",
       "      <td>16745663</td>\n",
       "      <td>2018-02-01</td>\n",
       "    </tr>\n",
       "    <tr>\n",
       "      <th>4</th>\n",
       "      <td>1730</td>\n",
       "      <td>13138095</td>\n",
       "      <td>2018-02-01</td>\n",
       "    </tr>\n",
       "    <tr>\n",
       "      <th>5</th>\n",
       "      <td>1865</td>\n",
       "      <td>13025088</td>\n",
       "      <td>2018-02-01</td>\n",
       "    </tr>\n",
       "    <tr>\n",
       "      <th>6</th>\n",
       "      <td>1895</td>\n",
       "      <td>28048075</td>\n",
       "      <td>2018-02-01</td>\n",
       "    </tr>\n",
       "    <tr>\n",
       "      <th>7</th>\n",
       "      <td>2297</td>\n",
       "      <td>12227959</td>\n",
       "      <td>2018-02-01</td>\n",
       "    </tr>\n",
       "    <tr>\n",
       "      <th>8</th>\n",
       "      <td>3767</td>\n",
       "      <td>23423684</td>\n",
       "      <td>2018-02-01</td>\n",
       "    </tr>\n",
       "    <tr>\n",
       "      <th>9</th>\n",
       "      <td>3812</td>\n",
       "      <td>25282465</td>\n",
       "      <td>2018-02-01</td>\n",
       "    </tr>\n",
       "  </tbody>\n",
       "</table>\n",
       "</div>"
      ],
      "text/plain": [
       "   instanceId_userId  instanceId_objectId        date\n",
       "0                116             28780736  2018-02-01\n",
       "1                353             26245790  2018-02-01\n",
       "2                707             12497594  2018-02-01\n",
       "3               1724             16745663  2018-02-01\n",
       "4               1730             13138095  2018-02-01\n",
       "5               1865             13025088  2018-02-01\n",
       "6               1895             28048075  2018-02-01\n",
       "7               2297             12227959  2018-02-01\n",
       "8               3767             23423684  2018-02-01\n",
       "9               3812             25282465  2018-02-01"
      ]
     },
     "execution_count": 18,
     "metadata": {},
     "output_type": "execute_result"
    }
   ],
   "source": [
    "#train = parquet.read_table(trainDataPath, columns = ['instanceId_userId', 'instanceId_objectId','ImageId','feedback']).to_pandas()\n",
    "train = parquet.read_table(trainDataPath, columns = ['instanceId_userId', 'instanceId_objectId']).to_pandas()\n",
    "train.head(10)"
   ]
  },
  {
   "cell_type": "code",
   "execution_count": 6,
   "metadata": {},
   "outputs": [
    {
     "data": {
      "text/plain": [
       "(17570921, 5)"
      ]
     },
     "execution_count": 6,
     "metadata": {},
     "output_type": "execute_result"
    }
   ],
   "source": [
    "train.shape"
   ]
  },
  {
   "cell_type": "code",
   "execution_count": 15,
   "metadata": {},
   "outputs": [
    {
     "data": {
      "text/plain": [
       "3839348"
      ]
     },
     "execution_count": 15,
     "metadata": {},
     "output_type": "execute_result"
    }
   ],
   "source": [
    "u = train['instanceId_userId'].unique()\n",
    "len(u)"
   ]
  },
  {
   "cell_type": "code",
   "execution_count": 16,
   "metadata": {},
   "outputs": [
    {
     "data": {
      "text/plain": [
       "2193286"
      ]
     },
     "execution_count": 16,
     "metadata": {},
     "output_type": "execute_result"
    }
   ],
   "source": [
    "u = train['instanceId_objectId'].unique()\n",
    "len(u)"
   ]
  },
  {
   "cell_type": "code",
   "execution_count": 24,
   "metadata": {},
   "outputs": [
    {
     "data": {
      "text/plain": [
       "(array([919458, 357525, 195475, ...,      0,      0,      1]),\n",
       " array([1.00000000e+00, 1.99971157e+00, 2.99942313e+00, ...,\n",
       "        3.46500058e+03, 3.46600029e+03, 3.46700000e+03]))"
      ]
     },
     "execution_count": 24,
     "metadata": {},
     "output_type": "execute_result"
    }
   ],
   "source": [
    "g = train.groupby('instanceId_objectId')\n",
    "counts = g['instanceId_objectId'].count()\n",
    "hist = np.histogram(counts.values, bins=counts.max(), density=False)\n",
    "hist\n",
    "#print(g)\n",
    "#print(counts)"
   ]
  },
  {
   "cell_type": "code",
   "execution_count": 43,
   "metadata": {},
   "outputs": [
    {
     "name": "stdout",
     "output_type": "stream",
     "text": [
      "[919458 357525 195475 126216  88016  65668  50447  40001  32528  26782\n",
      "  23060  19519  16805  14692  13135  11573  10233   9499   8262   7691\n",
      "   6814   6462   5914   5519   5117   4786   4366   4139   4111   3627\n",
      "   3492   3318   3001   2907   2839   2635   2557   2484   2293   2180\n",
      "   2090   1982   2028   1848   1790   1673   1631   1621   1485   1442\n",
      "   1369   1404   1308   1298   1237   1216   1118   1119   1006   1011\n",
      "    947    979    892    894    827    806    865    807    770    737\n",
      "    727    659    715    701    603    618    589    604    583    587\n",
      "    535    527    518    521    527    564    487    482    469    471\n",
      "    411    421    396    392    363    413    394    356    379    343\n",
      "    346    338    324    281    332    304    307    286    305    264\n",
      "    283    255    252    272    257    262    231    229    242    216\n",
      "    206    239    222    237    196    213    222    216    210    210\n",
      "    175    193    208    184    193    179    186    166    163    184\n",
      "    146    178    180    186    147    159    137    150    147    146\n",
      "    146    129    167    134    116    137    122    115    124    132\n",
      "    113    120    106    127    114    125    116    108    118    103\n",
      "    108     99     86     94     95     87     92     83    104     90\n",
      "     74     91     94     71     79     90     85     84     67     70\n",
      "     83     78     75     74     89     75     88     56     70     72]\n",
      "[0.41921482 0.16300884 0.08912426 0.05754653 0.04012974 0.02994046\n",
      " 0.02300065 0.01823793]\n"
     ]
    }
   ],
   "source": [
    "print(hist[0][0:200])\n",
    "print(hist[0][0:8]/2193286)"
   ]
  },
  {
   "cell_type": "code",
   "execution_count": 29,
   "metadata": {},
   "outputs": [
    {
     "name": "stdout",
     "output_type": "stream",
     "text": [
      "2675\n",
      "(array([1308055,  795820,  465278, ...,       0,       0,       1]), array([1.00000000e+00, 1.99962617e+00, 2.99925234e+00, ...,\n",
      "       2.67300075e+03, 2.67400037e+03, 2.67500000e+03]))\n"
     ]
    }
   ],
   "source": [
    "g = train.groupby('instanceId_userId')\n",
    "counts = g['instanceId_userId'].count()\n",
    "print(counts.max())\n",
    "hist2 = np.histogram(counts.values, bins=counts.max(), density=False)\n",
    "print(hist2)"
   ]
  },
  {
   "cell_type": "code",
   "execution_count": 41,
   "metadata": {
    "scrolled": true
   },
   "outputs": [
    {
     "name": "stdout",
     "output_type": "stream",
     "text": [
      "[1308055  795820  465278  294009  199782  142688  105942   81512   63629\n",
      "   50524   41404   34603   28578   24417   20816   17736   15248   13165\n",
      "   11613   10203    9155    8180    7320    6529    5923    5143    4641\n",
      "    4400    3904    3627    3194    3015    2799    2580    2282    2174\n",
      "    2020    1883    1713    1708    1524    1409    1313    1223    1198\n",
      "    1066    1028     951     988     859     800     703     720     675\n",
      "     686     639     599     555     505     508     455     443     454\n",
      "     416     382     385     376     378     289     322     292     326\n",
      "     292     258     272     282     239     231     207     213     211\n",
      "     192     189     176     165     163     151     161     160     145\n",
      "     149     147     129     119     107     107     112     119     113\n",
      "     115      97      95      95      93      76      80      84      82\n",
      "      71      90      69      50      69      72      64      93      50\n",
      "      70      70      53      59      54      58      51      48      54\n",
      "      50      58      43      39      41      43      57      37      44\n",
      "      46      40      38      42      35      25      29      35      25\n",
      "      31      37      42      34      41      29      20      27      33\n",
      "      26      32      20      30      36      34      25      25      28\n",
      "      12      20      16      27      10      15      18      22      15\n",
      "      18      18      15      18      22      24      19      15      18\n",
      "      19      15      16      13      20      15      17      12      16\n",
      "      12      14      12       8      10       8       8      19      14\n",
      "      10      13]\n",
      "[0.40962664 0.24921664 0.14570508 0.09207099 0.06256314 0.04468375\n",
      " 0.03317648 0.02552606]\n"
     ]
    }
   ],
   "source": [
    "print(hist2[0][0:200])\n",
    "print(hist2[0][0:8]/3193286)"
   ]
  },
  {
   "cell_type": "code",
   "execution_count": 27,
   "metadata": {},
   "outputs": [
    {
     "data": {
      "text/plain": [
       "[<matplotlib.lines.Line2D at 0x7f760aee2550>]"
      ]
     },
     "execution_count": 27,
     "metadata": {},
     "output_type": "execute_result"
    },
    {
     "data": {
      "image/png": "[encoded data removed]",
      "text/plain": [
       "<Figure size 432x288 with 1 Axes>"
      ]
     },
     "metadata": {
      "needs_background": "light"
     },
     "output_type": "display_data"
    }
   ],
   "source": [
    "plt.plot(hist2[0][0:100])"
   ]
  },
  {
   "cell_type": "markdown",
   "metadata": {},
   "source": [
    "Train: <br />\n",
    "Data size: 17.570.921 <br />\n",
    "Unique users num: 3.193.286 <br />\n",
    "Unique posts num: 2.193.286 <br />\n",
    "\n",
    "By users:<br />\n",
    "    1 308 055 users have only one interaction (41%) <br />\n",
    "      795 820                   2 interactions (25%)\n",
    "          115 users have      100 interactions\n",
    "           13 users have      200 interactions\n",
    "    Hist: [1308055  795820  465278  294009  199782  142688  105942   81512]   \n",
    "    \n",
    "    \n",
    "    \n",
    "By instances: <br />\n",
    "    919 458 - 1 interactgion (40 %)\n",
    "    357 525 - 2 interactions (16.3 %)\n",
    "        343 - 100 interactions\n",
    "         72 - 200 interactions\n",
    "    Hist: [919458, 357525, 195475, 126216,  88016,  65668,  50447,  40001, 32528,  26782] <br />\n",
    "    1000 have 2 interactions<br />\n",
    "    \n",
    " \n",
    "Test and train intersections:<br />\n",
    "    236 549 unique users are intersected: its 7% of posts number <br />\n",
    "        275 unique posts are intersected: its 0.001<br />"
   ]
  },
  {
   "cell_type": "code",
   "execution_count": null,
   "metadata": {},
   "outputs": [],
   "source": []
  },
  {
   "cell_type": "markdown",
   "metadata": {},
   "source": [
    "# Conpute interactions"
   ]
  },
  {
   "cell_type": "code",
   "execution_count": 4,
   "metadata": {},
   "outputs": [
    {
     "data": {
      "text/html": [
       "<div>\n",
       "<style scoped>\n",
       "    .dataframe tbody tr th:only-of-type {\n",
       "        vertical-align: middle;\n",
       "    }\n",
       "\n",
       "    .dataframe tbody tr th {\n",
       "        vertical-align: top;\n",
       "    }\n",
       "\n",
       "    .dataframe thead th {\n",
       "        text-align: right;\n",
       "    }\n",
       "</style>\n",
       "<table border=\"1\" class=\"dataframe\">\n",
       "  <thead>\n",
       "    <tr style=\"text-align: right;\">\n",
       "      <th></th>\n",
       "      <th>instanceId_userId</th>\n",
       "      <th>date</th>\n",
       "    </tr>\n",
       "  </thead>\n",
       "  <tbody>\n",
       "    <tr>\n",
       "      <th>0</th>\n",
       "      <td>116</td>\n",
       "      <td>2018-02-01</td>\n",
       "    </tr>\n",
       "    <tr>\n",
       "      <th>1</th>\n",
       "      <td>353</td>\n",
       "      <td>2018-02-01</td>\n",
       "    </tr>\n",
       "    <tr>\n",
       "      <th>2</th>\n",
       "      <td>707</td>\n",
       "      <td>2018-02-01</td>\n",
       "    </tr>\n",
       "    <tr>\n",
       "      <th>3</th>\n",
       "      <td>1724</td>\n",
       "      <td>2018-02-01</td>\n",
       "    </tr>\n",
       "    <tr>\n",
       "      <th>4</th>\n",
       "      <td>1730</td>\n",
       "      <td>2018-02-01</td>\n",
       "    </tr>\n",
       "    <tr>\n",
       "      <th>5</th>\n",
       "      <td>1865</td>\n",
       "      <td>2018-02-01</td>\n",
       "    </tr>\n",
       "    <tr>\n",
       "      <th>6</th>\n",
       "      <td>1895</td>\n",
       "      <td>2018-02-01</td>\n",
       "    </tr>\n",
       "    <tr>\n",
       "      <th>7</th>\n",
       "      <td>2297</td>\n",
       "      <td>2018-02-01</td>\n",
       "    </tr>\n",
       "    <tr>\n",
       "      <th>8</th>\n",
       "      <td>3767</td>\n",
       "      <td>2018-02-01</td>\n",
       "    </tr>\n",
       "    <tr>\n",
       "      <th>9</th>\n",
       "      <td>3812</td>\n",
       "      <td>2018-02-01</td>\n",
       "    </tr>\n",
       "  </tbody>\n",
       "</table>\n",
       "</div>"
      ],
      "text/plain": [
       "   instanceId_userId        date\n",
       "0                116  2018-02-01\n",
       "1                353  2018-02-01\n",
       "2                707  2018-02-01\n",
       "3               1724  2018-02-01\n",
       "4               1730  2018-02-01\n",
       "5               1865  2018-02-01\n",
       "6               1895  2018-02-01\n",
       "7               2297  2018-02-01\n",
       "8               3767  2018-02-01\n",
       "9               3812  2018-02-01"
      ]
     },
     "execution_count": 4,
     "metadata": {},
     "output_type": "execute_result"
    }
   ],
   "source": [
    "train = parquet.read_table(trainDataPath, columns = ['instanceId_userId']).to_pandas()\n",
    "train.head(10)"
   ]
  },
  {
   "cell_type": "code",
   "execution_count": 8,
   "metadata": {},
   "outputs": [],
   "source": [
    "test = parquet.read_table(testDataPath, columns = ['instanceId_userId']).to_pandas()"
   ]
  },
  {
   "cell_type": "code",
   "execution_count": 10,
   "metadata": {},
   "outputs": [],
   "source": [
    "intersect = np.intersect1d(train['instanceId_userId'].values, test['instanceId_userId'].values)"
   ]
  },
  {
   "cell_type": "code",
   "execution_count": 13,
   "metadata": {},
   "outputs": [
    {
     "name": "stdout",
     "output_type": "stream",
     "text": [
      "(17570921, 2)\n",
      "(1227183, 1)\n",
      "(236549,)\n"
     ]
    }
   ],
   "source": [
    "print(train.shape)\n",
    "print(test.shape)\n",
    "print(intersect.shape)"
   ]
  },
  {
   "cell_type": "code",
   "execution_count": 14,
   "metadata": {},
   "outputs": [
    {
     "data": {
      "text/plain": [
       "array([      59,      107,      158, ..., 15716543, 15716579, 15716681],\n",
       "      dtype=int32)"
      ]
     },
     "execution_count": 14,
     "metadata": {},
     "output_type": "execute_result"
    }
   ],
   "source": [
    "intersect"
   ]
  },
  {
   "cell_type": "code",
   "execution_count": 17,
   "metadata": {},
   "outputs": [
    {
     "name": "stdout",
     "output_type": "stream",
     "text": [
      "(17570921, 2)\n",
      "(1227183, 1)\n",
      "(275,)\n"
     ]
    }
   ],
   "source": [
    "train = parquet.read_table(trainDataPath, columns = ['instanceId_objectId']).to_pandas()\n",
    "test = parquet.read_table(testDataPath, columns = ['instanceId_objectId']).to_pandas()\n",
    "intersect = np.intersect1d(train['instanceId_objectId'].values, test['instanceId_objectId'].values)\n",
    "print(train.shape)\n",
    "print(test.shape)\n",
    "print(intersect.shape)"
   ]
  },
  {
   "cell_type": "markdown",
   "metadata": {},
   "source": [
    "# Persent of likes"
   ]
  },
  {
   "cell_type": "code",
   "execution_count": 4,
   "metadata": {},
   "outputs": [
    {
     "data": {
      "text/html": [
       "<div>\n",
       "<style scoped>\n",
       "    .dataframe tbody tr th:only-of-type {\n",
       "        vertical-align: middle;\n",
       "    }\n",
       "\n",
       "    .dataframe tbody tr th {\n",
       "        vertical-align: top;\n",
       "    }\n",
       "\n",
       "    .dataframe thead th {\n",
       "        text-align: right;\n",
       "    }\n",
       "</style>\n",
       "<table border=\"1\" class=\"dataframe\">\n",
       "  <thead>\n",
       "    <tr style=\"text-align: right;\">\n",
       "      <th></th>\n",
       "      <th>feedback</th>\n",
       "      <th>date</th>\n",
       "    </tr>\n",
       "  </thead>\n",
       "  <tbody>\n",
       "    <tr>\n",
       "      <th>0</th>\n",
       "      <td>[Ignored]</td>\n",
       "      <td>2018-02-01</td>\n",
       "    </tr>\n",
       "    <tr>\n",
       "      <th>1</th>\n",
       "      <td>[Ignored]</td>\n",
       "      <td>2018-02-01</td>\n",
       "    </tr>\n",
       "    <tr>\n",
       "      <th>2</th>\n",
       "      <td>[Ignored]</td>\n",
       "      <td>2018-02-01</td>\n",
       "    </tr>\n",
       "    <tr>\n",
       "      <th>3</th>\n",
       "      <td>[Ignored]</td>\n",
       "      <td>2018-02-01</td>\n",
       "    </tr>\n",
       "    <tr>\n",
       "      <th>4</th>\n",
       "      <td>[ReShared, Ignored]</td>\n",
       "      <td>2018-02-01</td>\n",
       "    </tr>\n",
       "  </tbody>\n",
       "</table>\n",
       "</div>"
      ],
      "text/plain": [
       "              feedback        date\n",
       "0            [Ignored]  2018-02-01\n",
       "1            [Ignored]  2018-02-01\n",
       "2            [Ignored]  2018-02-01\n",
       "3            [Ignored]  2018-02-01\n",
       "4  [ReShared, Ignored]  2018-02-01"
      ]
     },
     "execution_count": 4,
     "metadata": {},
     "output_type": "execute_result"
    }
   ],
   "source": [
    "train = parquet.read_table(trainDataPath, columns = ['feedback']).to_pandas()\n",
    "train.head()"
   ]
  },
  {
   "cell_type": "markdown",
   "metadata": {},
   "source": [
    "Posible values:\n",
    " * Ingnored 0\n",
    " * ReShared 0\n",
    " * Clicked 0\n",
    " * Liked +1\n",
    " * Disliked -1"
   ]
  },
  {
   "cell_type": "code",
   "execution_count": 6,
   "metadata": {},
   "outputs": [
    {
     "data": {
      "text/html": [
       "<div>\n",
       "<style scoped>\n",
       "    .dataframe tbody tr th:only-of-type {\n",
       "        vertical-align: middle;\n",
       "    }\n",
       "\n",
       "    .dataframe tbody tr th {\n",
       "        vertical-align: top;\n",
       "    }\n",
       "\n",
       "    .dataframe thead th {\n",
       "        text-align: right;\n",
       "    }\n",
       "</style>\n",
       "<table border=\"1\" class=\"dataframe\">\n",
       "  <thead>\n",
       "    <tr style=\"text-align: right;\">\n",
       "      <th></th>\n",
       "      <th>feedback</th>\n",
       "      <th>date</th>\n",
       "    </tr>\n",
       "  </thead>\n",
       "  <tbody>\n",
       "    <tr>\n",
       "      <th>0</th>\n",
       "      <td>[Ignored]</td>\n",
       "      <td>2018-02-01</td>\n",
       "    </tr>\n",
       "    <tr>\n",
       "      <th>1</th>\n",
       "      <td>[Ignored]</td>\n",
       "      <td>2018-02-01</td>\n",
       "    </tr>\n",
       "    <tr>\n",
       "      <th>2</th>\n",
       "      <td>[Ignored]</td>\n",
       "      <td>2018-02-01</td>\n",
       "    </tr>\n",
       "    <tr>\n",
       "      <th>3</th>\n",
       "      <td>[Ignored]</td>\n",
       "      <td>2018-02-01</td>\n",
       "    </tr>\n",
       "    <tr>\n",
       "      <th>4</th>\n",
       "      <td>[ReShared, Ignored]</td>\n",
       "      <td>2018-02-01</td>\n",
       "    </tr>\n",
       "    <tr>\n",
       "      <th>5</th>\n",
       "      <td>[Ignored]</td>\n",
       "      <td>2018-02-01</td>\n",
       "    </tr>\n",
       "    <tr>\n",
       "      <th>6</th>\n",
       "      <td>[Ignored]</td>\n",
       "      <td>2018-02-01</td>\n",
       "    </tr>\n",
       "    <tr>\n",
       "      <th>7</th>\n",
       "      <td>[Ignored]</td>\n",
       "      <td>2018-02-01</td>\n",
       "    </tr>\n",
       "    <tr>\n",
       "      <th>8</th>\n",
       "      <td>[Ignored]</td>\n",
       "      <td>2018-02-01</td>\n",
       "    </tr>\n",
       "    <tr>\n",
       "      <th>9</th>\n",
       "      <td>[Ignored]</td>\n",
       "      <td>2018-02-01</td>\n",
       "    </tr>\n",
       "    <tr>\n",
       "      <th>10</th>\n",
       "      <td>[Ignored]</td>\n",
       "      <td>2018-02-01</td>\n",
       "    </tr>\n",
       "    <tr>\n",
       "      <th>11</th>\n",
       "      <td>[Ignored]</td>\n",
       "      <td>2018-02-01</td>\n",
       "    </tr>\n",
       "    <tr>\n",
       "      <th>12</th>\n",
       "      <td>[Ignored]</td>\n",
       "      <td>2018-02-01</td>\n",
       "    </tr>\n",
       "    <tr>\n",
       "      <th>13</th>\n",
       "      <td>[Ignored]</td>\n",
       "      <td>2018-02-01</td>\n",
       "    </tr>\n",
       "    <tr>\n",
       "      <th>14</th>\n",
       "      <td>[Clicked]</td>\n",
       "      <td>2018-02-01</td>\n",
       "    </tr>\n",
       "    <tr>\n",
       "      <th>15</th>\n",
       "      <td>[Clicked]</td>\n",
       "      <td>2018-02-01</td>\n",
       "    </tr>\n",
       "    <tr>\n",
       "      <th>16</th>\n",
       "      <td>[Ignored]</td>\n",
       "      <td>2018-02-01</td>\n",
       "    </tr>\n",
       "    <tr>\n",
       "      <th>17</th>\n",
       "      <td>[Ignored]</td>\n",
       "      <td>2018-02-01</td>\n",
       "    </tr>\n",
       "    <tr>\n",
       "      <th>18</th>\n",
       "      <td>[Ignored]</td>\n",
       "      <td>2018-02-01</td>\n",
       "    </tr>\n",
       "    <tr>\n",
       "      <th>19</th>\n",
       "      <td>[Ignored]</td>\n",
       "      <td>2018-02-01</td>\n",
       "    </tr>\n",
       "    <tr>\n",
       "      <th>20</th>\n",
       "      <td>[Disliked]</td>\n",
       "      <td>2018-02-01</td>\n",
       "    </tr>\n",
       "    <tr>\n",
       "      <th>21</th>\n",
       "      <td>[Ignored]</td>\n",
       "      <td>2018-02-01</td>\n",
       "    </tr>\n",
       "    <tr>\n",
       "      <th>22</th>\n",
       "      <td>[Ignored]</td>\n",
       "      <td>2018-02-01</td>\n",
       "    </tr>\n",
       "    <tr>\n",
       "      <th>23</th>\n",
       "      <td>[Ignored]</td>\n",
       "      <td>2018-02-01</td>\n",
       "    </tr>\n",
       "    <tr>\n",
       "      <th>24</th>\n",
       "      <td>[Ignored]</td>\n",
       "      <td>2018-02-01</td>\n",
       "    </tr>\n",
       "    <tr>\n",
       "      <th>25</th>\n",
       "      <td>[Ignored]</td>\n",
       "      <td>2018-02-01</td>\n",
       "    </tr>\n",
       "    <tr>\n",
       "      <th>26</th>\n",
       "      <td>[Ignored]</td>\n",
       "      <td>2018-02-01</td>\n",
       "    </tr>\n",
       "    <tr>\n",
       "      <th>27</th>\n",
       "      <td>[Liked]</td>\n",
       "      <td>2018-02-01</td>\n",
       "    </tr>\n",
       "    <tr>\n",
       "      <th>28</th>\n",
       "      <td>[Disliked]</td>\n",
       "      <td>2018-02-01</td>\n",
       "    </tr>\n",
       "    <tr>\n",
       "      <th>29</th>\n",
       "      <td>[Clicked]</td>\n",
       "      <td>2018-02-01</td>\n",
       "    </tr>\n",
       "    <tr>\n",
       "      <th>...</th>\n",
       "      <td>...</td>\n",
       "      <td>...</td>\n",
       "    </tr>\n",
       "    <tr>\n",
       "      <th>17570891</th>\n",
       "      <td>[Disliked]</td>\n",
       "      <td>2018-03-21</td>\n",
       "    </tr>\n",
       "    <tr>\n",
       "      <th>17570892</th>\n",
       "      <td>[Ignored]</td>\n",
       "      <td>2018-03-21</td>\n",
       "    </tr>\n",
       "    <tr>\n",
       "      <th>17570893</th>\n",
       "      <td>[Ignored]</td>\n",
       "      <td>2018-03-21</td>\n",
       "    </tr>\n",
       "    <tr>\n",
       "      <th>17570894</th>\n",
       "      <td>[Ignored]</td>\n",
       "      <td>2018-03-21</td>\n",
       "    </tr>\n",
       "    <tr>\n",
       "      <th>17570895</th>\n",
       "      <td>[Liked]</td>\n",
       "      <td>2018-03-21</td>\n",
       "    </tr>\n",
       "    <tr>\n",
       "      <th>17570896</th>\n",
       "      <td>[Ignored]</td>\n",
       "      <td>2018-03-21</td>\n",
       "    </tr>\n",
       "    <tr>\n",
       "      <th>17570897</th>\n",
       "      <td>[Clicked, ReShared]</td>\n",
       "      <td>2018-03-21</td>\n",
       "    </tr>\n",
       "    <tr>\n",
       "      <th>17570898</th>\n",
       "      <td>[Clicked, Ignored]</td>\n",
       "      <td>2018-03-21</td>\n",
       "    </tr>\n",
       "    <tr>\n",
       "      <th>17570899</th>\n",
       "      <td>[Clicked]</td>\n",
       "      <td>2018-03-21</td>\n",
       "    </tr>\n",
       "    <tr>\n",
       "      <th>17570900</th>\n",
       "      <td>[Ignored]</td>\n",
       "      <td>2018-03-21</td>\n",
       "    </tr>\n",
       "    <tr>\n",
       "      <th>17570901</th>\n",
       "      <td>[Ignored]</td>\n",
       "      <td>2018-03-21</td>\n",
       "    </tr>\n",
       "    <tr>\n",
       "      <th>17570902</th>\n",
       "      <td>[Ignored]</td>\n",
       "      <td>2018-03-21</td>\n",
       "    </tr>\n",
       "    <tr>\n",
       "      <th>17570903</th>\n",
       "      <td>[Ignored]</td>\n",
       "      <td>2018-03-21</td>\n",
       "    </tr>\n",
       "    <tr>\n",
       "      <th>17570904</th>\n",
       "      <td>[Ignored]</td>\n",
       "      <td>2018-03-21</td>\n",
       "    </tr>\n",
       "    <tr>\n",
       "      <th>17570905</th>\n",
       "      <td>[Ignored]</td>\n",
       "      <td>2018-03-21</td>\n",
       "    </tr>\n",
       "    <tr>\n",
       "      <th>17570906</th>\n",
       "      <td>[Liked]</td>\n",
       "      <td>2018-03-21</td>\n",
       "    </tr>\n",
       "    <tr>\n",
       "      <th>17570907</th>\n",
       "      <td>[Ignored]</td>\n",
       "      <td>2018-03-21</td>\n",
       "    </tr>\n",
       "    <tr>\n",
       "      <th>17570908</th>\n",
       "      <td>[Ignored]</td>\n",
       "      <td>2018-03-21</td>\n",
       "    </tr>\n",
       "    <tr>\n",
       "      <th>17570909</th>\n",
       "      <td>[Liked]</td>\n",
       "      <td>2018-03-21</td>\n",
       "    </tr>\n",
       "    <tr>\n",
       "      <th>17570910</th>\n",
       "      <td>[ReShared, Ignored]</td>\n",
       "      <td>2018-03-21</td>\n",
       "    </tr>\n",
       "    <tr>\n",
       "      <th>17570911</th>\n",
       "      <td>[Ignored]</td>\n",
       "      <td>2018-03-21</td>\n",
       "    </tr>\n",
       "    <tr>\n",
       "      <th>17570912</th>\n",
       "      <td>[Ignored]</td>\n",
       "      <td>2018-03-21</td>\n",
       "    </tr>\n",
       "    <tr>\n",
       "      <th>17570913</th>\n",
       "      <td>[Ignored]</td>\n",
       "      <td>2018-03-21</td>\n",
       "    </tr>\n",
       "    <tr>\n",
       "      <th>17570914</th>\n",
       "      <td>[Ignored]</td>\n",
       "      <td>2018-03-21</td>\n",
       "    </tr>\n",
       "    <tr>\n",
       "      <th>17570915</th>\n",
       "      <td>[Ignored]</td>\n",
       "      <td>2018-03-21</td>\n",
       "    </tr>\n",
       "    <tr>\n",
       "      <th>17570916</th>\n",
       "      <td>[Liked]</td>\n",
       "      <td>2018-03-21</td>\n",
       "    </tr>\n",
       "    <tr>\n",
       "      <th>17570917</th>\n",
       "      <td>[Ignored]</td>\n",
       "      <td>2018-03-21</td>\n",
       "    </tr>\n",
       "    <tr>\n",
       "      <th>17570918</th>\n",
       "      <td>[Ignored]</td>\n",
       "      <td>2018-03-21</td>\n",
       "    </tr>\n",
       "    <tr>\n",
       "      <th>17570919</th>\n",
       "      <td>[Ignored]</td>\n",
       "      <td>2018-03-21</td>\n",
       "    </tr>\n",
       "    <tr>\n",
       "      <th>17570920</th>\n",
       "      <td>[Ignored]</td>\n",
       "      <td>2018-03-21</td>\n",
       "    </tr>\n",
       "  </tbody>\n",
       "</table>\n",
       "<p>17570921 rows × 2 columns</p>\n",
       "</div>"
      ],
      "text/plain": [
       "                     feedback        date\n",
       "0                   [Ignored]  2018-02-01\n",
       "1                   [Ignored]  2018-02-01\n",
       "2                   [Ignored]  2018-02-01\n",
       "3                   [Ignored]  2018-02-01\n",
       "4         [ReShared, Ignored]  2018-02-01\n",
       "5                   [Ignored]  2018-02-01\n",
       "6                   [Ignored]  2018-02-01\n",
       "7                   [Ignored]  2018-02-01\n",
       "8                   [Ignored]  2018-02-01\n",
       "9                   [Ignored]  2018-02-01\n",
       "10                  [Ignored]  2018-02-01\n",
       "11                  [Ignored]  2018-02-01\n",
       "12                  [Ignored]  2018-02-01\n",
       "13                  [Ignored]  2018-02-01\n",
       "14                  [Clicked]  2018-02-01\n",
       "15                  [Clicked]  2018-02-01\n",
       "16                  [Ignored]  2018-02-01\n",
       "17                  [Ignored]  2018-02-01\n",
       "18                  [Ignored]  2018-02-01\n",
       "19                  [Ignored]  2018-02-01\n",
       "20                 [Disliked]  2018-02-01\n",
       "21                  [Ignored]  2018-02-01\n",
       "22                  [Ignored]  2018-02-01\n",
       "23                  [Ignored]  2018-02-01\n",
       "24                  [Ignored]  2018-02-01\n",
       "25                  [Ignored]  2018-02-01\n",
       "26                  [Ignored]  2018-02-01\n",
       "27                    [Liked]  2018-02-01\n",
       "28                 [Disliked]  2018-02-01\n",
       "29                  [Clicked]  2018-02-01\n",
       "...                       ...         ...\n",
       "17570891           [Disliked]  2018-03-21\n",
       "17570892            [Ignored]  2018-03-21\n",
       "17570893            [Ignored]  2018-03-21\n",
       "17570894            [Ignored]  2018-03-21\n",
       "17570895              [Liked]  2018-03-21\n",
       "17570896            [Ignored]  2018-03-21\n",
       "17570897  [Clicked, ReShared]  2018-03-21\n",
       "17570898   [Clicked, Ignored]  2018-03-21\n",
       "17570899            [Clicked]  2018-03-21\n",
       "17570900            [Ignored]  2018-03-21\n",
       "17570901            [Ignored]  2018-03-21\n",
       "17570902            [Ignored]  2018-03-21\n",
       "17570903            [Ignored]  2018-03-21\n",
       "17570904            [Ignored]  2018-03-21\n",
       "17570905            [Ignored]  2018-03-21\n",
       "17570906              [Liked]  2018-03-21\n",
       "17570907            [Ignored]  2018-03-21\n",
       "17570908            [Ignored]  2018-03-21\n",
       "17570909              [Liked]  2018-03-21\n",
       "17570910  [ReShared, Ignored]  2018-03-21\n",
       "17570911            [Ignored]  2018-03-21\n",
       "17570912            [Ignored]  2018-03-21\n",
       "17570913            [Ignored]  2018-03-21\n",
       "17570914            [Ignored]  2018-03-21\n",
       "17570915            [Ignored]  2018-03-21\n",
       "17570916              [Liked]  2018-03-21\n",
       "17570917            [Ignored]  2018-03-21\n",
       "17570918            [Ignored]  2018-03-21\n",
       "17570919            [Ignored]  2018-03-21\n",
       "17570920            [Ignored]  2018-03-21\n",
       "\n",
       "[17570921 rows x 2 columns]"
      ]
     },
     "execution_count": 6,
     "metadata": {},
     "output_type": "execute_result"
    }
   ],
   "source": [
    "train"
   ]
  },
  {
   "cell_type": "code",
   "execution_count": null,
   "metadata": {},
   "outputs": [],
   "source": []
  }
 ],
 "metadata": {
  "kernelspec": {
   "display_name": "Python 3",
   "language": "python",
   "name": "python3"
  },
  "language_info": {
   "codemirror_mode": {
    "name": "ipython",
    "version": 3
   },
   "file_extension": ".py",
   "mimetype": "text/x-python",
   "name": "python",
   "nbconvert_exporter": "python",
   "pygments_lexer": "ipython3",
   "version": "3.7.2"
  }
 },
 "nbformat": 4,
 "nbformat_minor": 2
}
