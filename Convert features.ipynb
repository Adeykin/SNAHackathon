{
 "cells": [
  {
   "cell_type": "code",
   "execution_count": 5,
   "metadata": {},
   "outputs": [],
   "source": [
    "import pandas as pd\n",
    "import numpy as np\n",
    "import pyarrow.parquet as parquet"
   ]
  },
  {
   "cell_type": "code",
   "execution_count": 6,
   "metadata": {},
   "outputs": [],
   "source": [
    "#mat = np.ones((10,80))\n",
    "#names = ['a']*10\n",
    "\n",
    "def createDF(mat, names):\n",
    "    columns = ['class_' + str(x) for x in range(mat.shape[1]) ]\n",
    "    df = pd.DataFrame(mat, columns=columns, dtype='float32')\n",
    "    df['fileName'] = names\n",
    "\n",
    "    cols = df.columns.tolist()\n",
    "    cols = [cols[-1]]+cols[:-1] # or whatever change you need\n",
    "    df = df.reindex(columns=cols)\n",
    "\n",
    "    return df"
   ]
  },
  {
   "cell_type": "code",
   "execution_count": 7,
   "metadata": {},
   "outputs": [],
   "source": [
    "testPath = '/home/adeykin/projects/SNAHackaton/testFeatures.csv'\n",
    "trainPath = '/home/adeykin/projects/SNAHackaton/trainFeatures2.csv'"
   ]
  },
  {
   "cell_type": "code",
   "execution_count": 8,
   "metadata": {},
   "outputs": [],
   "source": [
    "def readFeatures(fileName):\n",
    "    numLines = sum(1 for line in open(fileName, 'r'))\n",
    "    f = open(fileName, 'r')\n",
    "\n",
    "    print('Read file: ' + fileName)\n",
    "    print('Number of lines: ' + str(numLines))\n",
    "\n",
    "    mat = np.zeros((numLines, 80), dtype='float32')\n",
    "    names = []\n",
    "    \n",
    "    for i, line in enumerate(f):\n",
    "        arr = line.split(',')\n",
    "        #print(arr)\n",
    "        names.append(arr[0])\n",
    "        w, h = arr[1], arr[2]\n",
    "        classesNum = int((len(arr) - 3) / 6)\n",
    "        #print(classesNum)\n",
    "        classesId = map(int, arr[3:3+classesNum])\n",
    "        classesScores = map(float, arr[3+classesNum+1:3+classesNum+1+classesNum])\n",
    "        for cid, score in zip(classesId, classesScores):\n",
    "            mat[i, cid] = max(mat[i, cid], score)\n",
    "        #print(classesId)\n",
    "        #print(classesScores)\n",
    "        if not i % 50000:\n",
    "            print(str(i) + '/' + str(numLines) + ' lines precessed')\n",
    "            \n",
    "    return mat, names"
   ]
  },
  {
   "cell_type": "code",
   "execution_count": 9,
   "metadata": {},
   "outputs": [
    {
     "name": "stdout",
     "output_type": "stream",
     "text": [
      "Read file: /home/adeykin/projects/SNAHackaton/testFeatures.csv\n",
      "Number of lines: 352505\n",
      "0/352505 lines precessed\n",
      "50000/352505 lines precessed\n",
      "100000/352505 lines precessed\n",
      "150000/352505 lines precessed\n",
      "200000/352505 lines precessed\n",
      "250000/352505 lines precessed\n",
      "300000/352505 lines precessed\n",
      "350000/352505 lines precessed\n"
     ]
    }
   ],
   "source": [
    "testMat, testNames = readFeatures(testPath)"
   ]
  },
  {
   "cell_type": "code",
   "execution_count": 10,
   "metadata": {},
   "outputs": [],
   "source": [
    "np.save('testMat.npy', testMat)"
   ]
  },
  {
   "cell_type": "code",
   "execution_count": 11,
   "metadata": {},
   "outputs": [],
   "source": [
    "testDF = createDF(testMat, testNames)"
   ]
  },
  {
   "cell_type": "code",
   "execution_count": 12,
   "metadata": {},
   "outputs": [],
   "source": [
    "testDF.to_pickle('testDF.pkl')"
   ]
  },
  {
   "cell_type": "code",
   "execution_count": 37,
   "metadata": {},
   "outputs": [
    {
     "name": "stdout",
     "output_type": "stream",
     "text": [
      "Read file: /home/adeykin/projects/SNAHackaton/trainFeatures2.csv\n",
      "Number of lines: 1629184\n",
      "0/1629184 lines precessed\n",
      "50000/1629184 lines precessed\n",
      "100000/1629184 lines precessed\n",
      "150000/1629184 lines precessed\n",
      "200000/1629184 lines precessed\n",
      "250000/1629184 lines precessed\n",
      "300000/1629184 lines precessed\n",
      "350000/1629184 lines precessed\n",
      "400000/1629184 lines precessed\n",
      "450000/1629184 lines precessed\n",
      "500000/1629184 lines precessed\n",
      "550000/1629184 lines precessed\n",
      "600000/1629184 lines precessed\n",
      "650000/1629184 lines precessed\n",
      "700000/1629184 lines precessed\n",
      "750000/1629184 lines precessed\n",
      "800000/1629184 lines precessed\n",
      "850000/1629184 lines precessed\n",
      "900000/1629184 lines precessed\n",
      "950000/1629184 lines precessed\n",
      "1000000/1629184 lines precessed\n",
      "1050000/1629184 lines precessed\n",
      "1100000/1629184 lines precessed\n",
      "1150000/1629184 lines precessed\n",
      "1200000/1629184 lines precessed\n",
      "1250000/1629184 lines precessed\n",
      "1300000/1629184 lines precessed\n",
      "1350000/1629184 lines precessed\n",
      "1400000/1629184 lines precessed\n",
      "1450000/1629184 lines precessed\n",
      "1500000/1629184 lines precessed\n",
      "1550000/1629184 lines precessed\n",
      "1600000/1629184 lines precessed\n"
     ]
    }
   ],
   "source": [
    "trainMat, trainNames = readFeatures(trainPath)"
   ]
  },
  {
   "cell_type": "code",
   "execution_count": 38,
   "metadata": {},
   "outputs": [
    {
     "name": "stdout",
     "output_type": "stream",
     "text": [
      "(1629184, 80)\n",
      "1629184\n"
     ]
    }
   ],
   "source": [
    "print(trainMat.shape)\n",
    "print(len(trainNames))"
   ]
  },
  {
   "cell_type": "code",
   "execution_count": 39,
   "metadata": {},
   "outputs": [],
   "source": [
    "np.save('trainMat.npy', trainMat)"
   ]
  },
  {
   "cell_type": "code",
   "execution_count": 40,
   "metadata": {},
   "outputs": [],
   "source": [
    "trainDF = createDF(trainMat, trainNames)"
   ]
  },
  {
   "cell_type": "code",
   "execution_count": 41,
   "metadata": {},
   "outputs": [],
   "source": [
    "trainDF.to_pickle('trainDF.pkl')"
   ]
  },
  {
   "cell_type": "markdown",
   "metadata": {},
   "source": [
    "# Target"
   ]
  },
  {
   "cell_type": "code",
   "execution_count": 2,
   "metadata": {},
   "outputs": [],
   "source": [
    "trainMetaPath = '/home/adeykin/projects/SNAHackaton/imagesTrain'"
   ]
  },
  {
   "cell_type": "code",
   "execution_count": 3,
   "metadata": {},
   "outputs": [],
   "source": [
    "trainMeta = parquet.read_table(trainMetaPath, columns = ['ImageId','feedback']).to_pandas()"
   ]
  },
  {
   "cell_type": "code",
   "execution_count": 5,
   "metadata": {},
   "outputs": [],
   "source": [
    "trainMeta['targetScore'] = trainMeta['feedback'].map(lambda x:  (1 if 'Liked' in x else 0) + (-1 if 'Disliked' in x else 0) )"
   ]
  },
  {
   "cell_type": "code",
   "execution_count": 8,
   "metadata": {},
   "outputs": [
    {
     "name": "stdout",
     "output_type": "stream",
     "text": [
      "All: 17570921\n",
      "positivs: 3332271\n",
      "negativs: 1470063\n"
     ]
    }
   ],
   "source": [
    "print('All: ' + str(trainMeta.shape[0]))\n",
    "print('positivs: ' + str((trainMeta['targetScore'] > 0).sum()))\n",
    "print('negativs: ' + str((trainMeta['targetScore'] < 0).sum()))\n"
   ]
  },
  {
   "cell_type": "markdown",
   "metadata": {},
   "source": [
    "**Aggtegate:**"
   ]
  },
  {
   "cell_type": "code",
   "execution_count": 18,
   "metadata": {},
   "outputs": [],
   "source": [
    "trainMeta = trainMeta.drop(columns=['feedback'])"
   ]
  },
  {
   "cell_type": "code",
   "execution_count": 47,
   "metadata": {},
   "outputs": [],
   "source": [
    "trainMeta['ImageId'] = trainMeta['ImageId'].map(lambda x: x[0])"
   ]
  },
  {
   "cell_type": "code",
   "execution_count": 60,
   "metadata": {},
   "outputs": [],
   "source": [
    "g = trainMeta.groupby('ImageId', as_index = False)"
   ]
  },
  {
   "cell_type": "code",
   "execution_count": 61,
   "metadata": {},
   "outputs": [],
   "source": [
    "aggr = g['targetScore'].sum()"
   ]
  },
  {
   "cell_type": "code",
   "execution_count": 64,
   "metadata": {},
   "outputs": [],
   "source": [
    "aggr.to_pickle('trainTargetDF.pkl')"
   ]
  },
  {
   "cell_type": "markdown",
   "metadata": {},
   "source": [
    "# Merge target and features"
   ]
  },
  {
   "cell_type": "code",
   "execution_count": 3,
   "metadata": {},
   "outputs": [
    {
     "data": {
      "text/html": [
       "<div>\n",
       "<style scoped>\n",
       "    .dataframe tbody tr th:only-of-type {\n",
       "        vertical-align: middle;\n",
       "    }\n",
       "\n",
       "    .dataframe tbody tr th {\n",
       "        vertical-align: top;\n",
       "    }\n",
       "\n",
       "    .dataframe thead th {\n",
       "        text-align: right;\n",
       "    }\n",
       "</style>\n",
       "<table border=\"1\" class=\"dataframe\">\n",
       "  <thead>\n",
       "    <tr style=\"text-align: right;\">\n",
       "      <th></th>\n",
       "      <th>fileName</th>\n",
       "      <th>class_0</th>\n",
       "      <th>class_1</th>\n",
       "      <th>class_2</th>\n",
       "      <th>class_3</th>\n",
       "      <th>class_4</th>\n",
       "      <th>class_5</th>\n",
       "      <th>class_6</th>\n",
       "      <th>class_7</th>\n",
       "      <th>class_8</th>\n",
       "      <th>...</th>\n",
       "      <th>class_70</th>\n",
       "      <th>class_71</th>\n",
       "      <th>class_72</th>\n",
       "      <th>class_73</th>\n",
       "      <th>class_74</th>\n",
       "      <th>class_75</th>\n",
       "      <th>class_76</th>\n",
       "      <th>class_77</th>\n",
       "      <th>class_78</th>\n",
       "      <th>class_79</th>\n",
       "    </tr>\n",
       "  </thead>\n",
       "  <tbody>\n",
       "    <tr>\n",
       "      <th>0</th>\n",
       "      <td>000001306cae19a89e295296b506bab7</td>\n",
       "      <td>0.069727</td>\n",
       "      <td>0.0</td>\n",
       "      <td>0.0</td>\n",
       "      <td>0.0</td>\n",
       "      <td>0.0</td>\n",
       "      <td>0.0</td>\n",
       "      <td>0.0</td>\n",
       "      <td>0.0</td>\n",
       "      <td>0.0</td>\n",
       "      <td>...</td>\n",
       "      <td>0.0</td>\n",
       "      <td>0.0</td>\n",
       "      <td>0.0</td>\n",
       "      <td>0.0</td>\n",
       "      <td>0.0</td>\n",
       "      <td>0.0</td>\n",
       "      <td>0.0</td>\n",
       "      <td>0.0</td>\n",
       "      <td>0.0</td>\n",
       "      <td>0.000000</td>\n",
       "    </tr>\n",
       "    <tr>\n",
       "      <th>1</th>\n",
       "      <td>000006419b6c05ec9cf30ef466dd8fec</td>\n",
       "      <td>0.058808</td>\n",
       "      <td>0.0</td>\n",
       "      <td>0.0</td>\n",
       "      <td>0.0</td>\n",
       "      <td>0.0</td>\n",
       "      <td>0.0</td>\n",
       "      <td>0.0</td>\n",
       "      <td>0.0</td>\n",
       "      <td>0.0</td>\n",
       "      <td>...</td>\n",
       "      <td>0.0</td>\n",
       "      <td>0.0</td>\n",
       "      <td>0.0</td>\n",
       "      <td>0.0</td>\n",
       "      <td>0.0</td>\n",
       "      <td>0.0</td>\n",
       "      <td>0.0</td>\n",
       "      <td>0.0</td>\n",
       "      <td>0.0</td>\n",
       "      <td>2.693916</td>\n",
       "    </tr>\n",
       "    <tr>\n",
       "      <th>2</th>\n",
       "      <td>000007d3372fb4688f870cb150d551f8</td>\n",
       "      <td>0.058399</td>\n",
       "      <td>0.0</td>\n",
       "      <td>0.0</td>\n",
       "      <td>0.0</td>\n",
       "      <td>0.0</td>\n",
       "      <td>0.0</td>\n",
       "      <td>0.0</td>\n",
       "      <td>0.0</td>\n",
       "      <td>0.0</td>\n",
       "      <td>...</td>\n",
       "      <td>0.0</td>\n",
       "      <td>0.0</td>\n",
       "      <td>0.0</td>\n",
       "      <td>0.0</td>\n",
       "      <td>0.0</td>\n",
       "      <td>0.0</td>\n",
       "      <td>0.0</td>\n",
       "      <td>0.0</td>\n",
       "      <td>0.0</td>\n",
       "      <td>0.000000</td>\n",
       "    </tr>\n",
       "    <tr>\n",
       "      <th>3</th>\n",
       "      <td>000010bc53c1c6c567c112b7a17227fa</td>\n",
       "      <td>0.022514</td>\n",
       "      <td>0.0</td>\n",
       "      <td>0.0</td>\n",
       "      <td>0.0</td>\n",
       "      <td>0.0</td>\n",
       "      <td>0.0</td>\n",
       "      <td>0.0</td>\n",
       "      <td>0.0</td>\n",
       "      <td>0.0</td>\n",
       "      <td>...</td>\n",
       "      <td>0.0</td>\n",
       "      <td>0.0</td>\n",
       "      <td>0.0</td>\n",
       "      <td>0.0</td>\n",
       "      <td>0.0</td>\n",
       "      <td>0.0</td>\n",
       "      <td>0.0</td>\n",
       "      <td>0.0</td>\n",
       "      <td>0.0</td>\n",
       "      <td>0.000000</td>\n",
       "    </tr>\n",
       "    <tr>\n",
       "      <th>4</th>\n",
       "      <td>00001a68648da02922172a45b42f5e16</td>\n",
       "      <td>0.000000</td>\n",
       "      <td>0.0</td>\n",
       "      <td>0.0</td>\n",
       "      <td>0.0</td>\n",
       "      <td>0.0</td>\n",
       "      <td>0.0</td>\n",
       "      <td>0.0</td>\n",
       "      <td>0.0</td>\n",
       "      <td>0.0</td>\n",
       "      <td>...</td>\n",
       "      <td>0.0</td>\n",
       "      <td>0.0</td>\n",
       "      <td>0.0</td>\n",
       "      <td>0.0</td>\n",
       "      <td>0.0</td>\n",
       "      <td>0.0</td>\n",
       "      <td>0.0</td>\n",
       "      <td>0.0</td>\n",
       "      <td>0.0</td>\n",
       "      <td>0.000000</td>\n",
       "    </tr>\n",
       "  </tbody>\n",
       "</table>\n",
       "<p>5 rows × 81 columns</p>\n",
       "</div>"
      ],
      "text/plain": [
       "                           fileName   class_0  class_1  class_2  class_3  \\\n",
       "0  000001306cae19a89e295296b506bab7  0.069727      0.0      0.0      0.0   \n",
       "1  000006419b6c05ec9cf30ef466dd8fec  0.058808      0.0      0.0      0.0   \n",
       "2  000007d3372fb4688f870cb150d551f8  0.058399      0.0      0.0      0.0   \n",
       "3  000010bc53c1c6c567c112b7a17227fa  0.022514      0.0      0.0      0.0   \n",
       "4  00001a68648da02922172a45b42f5e16  0.000000      0.0      0.0      0.0   \n",
       "\n",
       "   class_4  class_5  class_6  class_7  class_8  ...  class_70  class_71  \\\n",
       "0      0.0      0.0      0.0      0.0      0.0  ...       0.0       0.0   \n",
       "1      0.0      0.0      0.0      0.0      0.0  ...       0.0       0.0   \n",
       "2      0.0      0.0      0.0      0.0      0.0  ...       0.0       0.0   \n",
       "3      0.0      0.0      0.0      0.0      0.0  ...       0.0       0.0   \n",
       "4      0.0      0.0      0.0      0.0      0.0  ...       0.0       0.0   \n",
       "\n",
       "   class_72  class_73  class_74  class_75  class_76  class_77  class_78  \\\n",
       "0       0.0       0.0       0.0       0.0       0.0       0.0       0.0   \n",
       "1       0.0       0.0       0.0       0.0       0.0       0.0       0.0   \n",
       "2       0.0       0.0       0.0       0.0       0.0       0.0       0.0   \n",
       "3       0.0       0.0       0.0       0.0       0.0       0.0       0.0   \n",
       "4       0.0       0.0       0.0       0.0       0.0       0.0       0.0   \n",
       "\n",
       "   class_79  \n",
       "0  0.000000  \n",
       "1  2.693916  \n",
       "2  0.000000  \n",
       "3  0.000000  \n",
       "4  0.000000  \n",
       "\n",
       "[5 rows x 81 columns]"
      ]
     },
     "execution_count": 3,
     "metadata": {},
     "output_type": "execute_result"
    }
   ],
   "source": [
    "df = pd.read_pickle('trainDF.pkl')\n",
    "df.head()"
   ]
  },
  {
   "cell_type": "code",
   "execution_count": 19,
   "metadata": {},
   "outputs": [
    {
     "data": {
      "text/html": [
       "<div>\n",
       "<style scoped>\n",
       "    .dataframe tbody tr th:only-of-type {\n",
       "        vertical-align: middle;\n",
       "    }\n",
       "\n",
       "    .dataframe tbody tr th {\n",
       "        vertical-align: top;\n",
       "    }\n",
       "\n",
       "    .dataframe thead th {\n",
       "        text-align: right;\n",
       "    }\n",
       "</style>\n",
       "<table border=\"1\" class=\"dataframe\">\n",
       "  <thead>\n",
       "    <tr style=\"text-align: right;\">\n",
       "      <th></th>\n",
       "      <th>ImageId</th>\n",
       "      <th>class_0</th>\n",
       "      <th>class_1</th>\n",
       "      <th>class_2</th>\n",
       "      <th>class_3</th>\n",
       "      <th>class_4</th>\n",
       "      <th>class_5</th>\n",
       "      <th>class_6</th>\n",
       "      <th>class_7</th>\n",
       "      <th>class_8</th>\n",
       "      <th>...</th>\n",
       "      <th>class_70</th>\n",
       "      <th>class_71</th>\n",
       "      <th>class_72</th>\n",
       "      <th>class_73</th>\n",
       "      <th>class_74</th>\n",
       "      <th>class_75</th>\n",
       "      <th>class_76</th>\n",
       "      <th>class_77</th>\n",
       "      <th>class_78</th>\n",
       "      <th>class_79</th>\n",
       "    </tr>\n",
       "  </thead>\n",
       "  <tbody>\n",
       "    <tr>\n",
       "      <th>0</th>\n",
       "      <td>000001306cae19a89e295296b506bab7</td>\n",
       "      <td>0.069727</td>\n",
       "      <td>0.0</td>\n",
       "      <td>0.0</td>\n",
       "      <td>0.0</td>\n",
       "      <td>0.0</td>\n",
       "      <td>0.0</td>\n",
       "      <td>0.0</td>\n",
       "      <td>0.0</td>\n",
       "      <td>0.0</td>\n",
       "      <td>...</td>\n",
       "      <td>0.0</td>\n",
       "      <td>0.0</td>\n",
       "      <td>0.0</td>\n",
       "      <td>0.0</td>\n",
       "      <td>0.0</td>\n",
       "      <td>0.0</td>\n",
       "      <td>0.0</td>\n",
       "      <td>0.0</td>\n",
       "      <td>0.0</td>\n",
       "      <td>0.000000</td>\n",
       "    </tr>\n",
       "    <tr>\n",
       "      <th>1</th>\n",
       "      <td>000006419b6c05ec9cf30ef466dd8fec</td>\n",
       "      <td>0.058808</td>\n",
       "      <td>0.0</td>\n",
       "      <td>0.0</td>\n",
       "      <td>0.0</td>\n",
       "      <td>0.0</td>\n",
       "      <td>0.0</td>\n",
       "      <td>0.0</td>\n",
       "      <td>0.0</td>\n",
       "      <td>0.0</td>\n",
       "      <td>...</td>\n",
       "      <td>0.0</td>\n",
       "      <td>0.0</td>\n",
       "      <td>0.0</td>\n",
       "      <td>0.0</td>\n",
       "      <td>0.0</td>\n",
       "      <td>0.0</td>\n",
       "      <td>0.0</td>\n",
       "      <td>0.0</td>\n",
       "      <td>0.0</td>\n",
       "      <td>2.693916</td>\n",
       "    </tr>\n",
       "    <tr>\n",
       "      <th>2</th>\n",
       "      <td>000007d3372fb4688f870cb150d551f8</td>\n",
       "      <td>0.058399</td>\n",
       "      <td>0.0</td>\n",
       "      <td>0.0</td>\n",
       "      <td>0.0</td>\n",
       "      <td>0.0</td>\n",
       "      <td>0.0</td>\n",
       "      <td>0.0</td>\n",
       "      <td>0.0</td>\n",
       "      <td>0.0</td>\n",
       "      <td>...</td>\n",
       "      <td>0.0</td>\n",
       "      <td>0.0</td>\n",
       "      <td>0.0</td>\n",
       "      <td>0.0</td>\n",
       "      <td>0.0</td>\n",
       "      <td>0.0</td>\n",
       "      <td>0.0</td>\n",
       "      <td>0.0</td>\n",
       "      <td>0.0</td>\n",
       "      <td>0.000000</td>\n",
       "    </tr>\n",
       "    <tr>\n",
       "      <th>3</th>\n",
       "      <td>000010bc53c1c6c567c112b7a17227fa</td>\n",
       "      <td>0.022514</td>\n",
       "      <td>0.0</td>\n",
       "      <td>0.0</td>\n",
       "      <td>0.0</td>\n",
       "      <td>0.0</td>\n",
       "      <td>0.0</td>\n",
       "      <td>0.0</td>\n",
       "      <td>0.0</td>\n",
       "      <td>0.0</td>\n",
       "      <td>...</td>\n",
       "      <td>0.0</td>\n",
       "      <td>0.0</td>\n",
       "      <td>0.0</td>\n",
       "      <td>0.0</td>\n",
       "      <td>0.0</td>\n",
       "      <td>0.0</td>\n",
       "      <td>0.0</td>\n",
       "      <td>0.0</td>\n",
       "      <td>0.0</td>\n",
       "      <td>0.000000</td>\n",
       "    </tr>\n",
       "    <tr>\n",
       "      <th>4</th>\n",
       "      <td>00001a68648da02922172a45b42f5e16</td>\n",
       "      <td>0.000000</td>\n",
       "      <td>0.0</td>\n",
       "      <td>0.0</td>\n",
       "      <td>0.0</td>\n",
       "      <td>0.0</td>\n",
       "      <td>0.0</td>\n",
       "      <td>0.0</td>\n",
       "      <td>0.0</td>\n",
       "      <td>0.0</td>\n",
       "      <td>...</td>\n",
       "      <td>0.0</td>\n",
       "      <td>0.0</td>\n",
       "      <td>0.0</td>\n",
       "      <td>0.0</td>\n",
       "      <td>0.0</td>\n",
       "      <td>0.0</td>\n",
       "      <td>0.0</td>\n",
       "      <td>0.0</td>\n",
       "      <td>0.0</td>\n",
       "      <td>0.000000</td>\n",
       "    </tr>\n",
       "  </tbody>\n",
       "</table>\n",
       "<p>5 rows × 81 columns</p>\n",
       "</div>"
      ],
      "text/plain": [
       "                            ImageId   class_0  class_1  class_2  class_3  \\\n",
       "0  000001306cae19a89e295296b506bab7  0.069727      0.0      0.0      0.0   \n",
       "1  000006419b6c05ec9cf30ef466dd8fec  0.058808      0.0      0.0      0.0   \n",
       "2  000007d3372fb4688f870cb150d551f8  0.058399      0.0      0.0      0.0   \n",
       "3  000010bc53c1c6c567c112b7a17227fa  0.022514      0.0      0.0      0.0   \n",
       "4  00001a68648da02922172a45b42f5e16  0.000000      0.0      0.0      0.0   \n",
       "\n",
       "   class_4  class_5  class_6  class_7  class_8  ...  class_70  class_71  \\\n",
       "0      0.0      0.0      0.0      0.0      0.0  ...       0.0       0.0   \n",
       "1      0.0      0.0      0.0      0.0      0.0  ...       0.0       0.0   \n",
       "2      0.0      0.0      0.0      0.0      0.0  ...       0.0       0.0   \n",
       "3      0.0      0.0      0.0      0.0      0.0  ...       0.0       0.0   \n",
       "4      0.0      0.0      0.0      0.0      0.0  ...       0.0       0.0   \n",
       "\n",
       "   class_72  class_73  class_74  class_75  class_76  class_77  class_78  \\\n",
       "0       0.0       0.0       0.0       0.0       0.0       0.0       0.0   \n",
       "1       0.0       0.0       0.0       0.0       0.0       0.0       0.0   \n",
       "2       0.0       0.0       0.0       0.0       0.0       0.0       0.0   \n",
       "3       0.0       0.0       0.0       0.0       0.0       0.0       0.0   \n",
       "4       0.0       0.0       0.0       0.0       0.0       0.0       0.0   \n",
       "\n",
       "   class_79  \n",
       "0  0.000000  \n",
       "1  2.693916  \n",
       "2  0.000000  \n",
       "3  0.000000  \n",
       "4  0.000000  \n",
       "\n",
       "[5 rows x 81 columns]"
      ]
     },
     "execution_count": 19,
     "metadata": {},
     "output_type": "execute_result"
    }
   ],
   "source": [
    "#df = df.rename( {'fileName': 'ImageId'},  axis='columns')\n",
    "df.head()"
   ]
  },
  {
   "cell_type": "code",
   "execution_count": 18,
   "metadata": {},
   "outputs": [
    {
     "data": {
      "text/plain": [
       "dtype('O')"
      ]
     },
     "execution_count": 18,
     "metadata": {},
     "output_type": "execute_result"
    }
   ],
   "source": [
    "df['ImageId'].dtype"
   ]
  },
  {
   "cell_type": "code",
   "execution_count": 20,
   "metadata": {},
   "outputs": [
    {
     "data": {
      "text/plain": [
       "dtype('O')"
      ]
     },
     "execution_count": 20,
     "metadata": {},
     "output_type": "execute_result"
    }
   ],
   "source": [
    "dfTarget['ImageId'].dtype"
   ]
  },
  {
   "cell_type": "code",
   "execution_count": 5,
   "metadata": {},
   "outputs": [
    {
     "data": {
      "text/html": [
       "<div>\n",
       "<style scoped>\n",
       "    .dataframe tbody tr th:only-of-type {\n",
       "        vertical-align: middle;\n",
       "    }\n",
       "\n",
       "    .dataframe tbody tr th {\n",
       "        vertical-align: top;\n",
       "    }\n",
       "\n",
       "    .dataframe thead th {\n",
       "        text-align: right;\n",
       "    }\n",
       "</style>\n",
       "<table border=\"1\" class=\"dataframe\">\n",
       "  <thead>\n",
       "    <tr style=\"text-align: right;\">\n",
       "      <th></th>\n",
       "      <th>ImageId</th>\n",
       "      <th>targetScore</th>\n",
       "    </tr>\n",
       "  </thead>\n",
       "  <tbody>\n",
       "    <tr>\n",
       "      <th>0</th>\n",
       "      <td>000001306cae19a89e295296b506bab7</td>\n",
       "      <td>0</td>\n",
       "    </tr>\n",
       "    <tr>\n",
       "      <th>1</th>\n",
       "      <td>000006419b6c05ec9cf30ef466dd8fec</td>\n",
       "      <td>6</td>\n",
       "    </tr>\n",
       "    <tr>\n",
       "      <th>2</th>\n",
       "      <td>000007d3372fb4688f870cb150d551f8</td>\n",
       "      <td>0</td>\n",
       "    </tr>\n",
       "    <tr>\n",
       "      <th>3</th>\n",
       "      <td>000010bc53c1c6c567c112b7a17227fa</td>\n",
       "      <td>0</td>\n",
       "    </tr>\n",
       "    <tr>\n",
       "      <th>4</th>\n",
       "      <td>00001a68648da02922172a45b42f5e16</td>\n",
       "      <td>1</td>\n",
       "    </tr>\n",
       "  </tbody>\n",
       "</table>\n",
       "</div>"
      ],
      "text/plain": [
       "                            ImageId  targetScore\n",
       "0  000001306cae19a89e295296b506bab7            0\n",
       "1  000006419b6c05ec9cf30ef466dd8fec            6\n",
       "2  000007d3372fb4688f870cb150d551f8            0\n",
       "3  000010bc53c1c6c567c112b7a17227fa            0\n",
       "4  00001a68648da02922172a45b42f5e16            1"
      ]
     },
     "execution_count": 5,
     "metadata": {},
     "output_type": "execute_result"
    }
   ],
   "source": [
    "dfTarget = pd.read_pickle('trainTargetDF.pkl')\n",
    "dfTarget.head()"
   ]
  },
  {
   "cell_type": "code",
   "execution_count": 22,
   "metadata": {},
   "outputs": [
    {
     "data": {
      "text/html": [
       "<div>\n",
       "<style scoped>\n",
       "    .dataframe tbody tr th:only-of-type {\n",
       "        vertical-align: middle;\n",
       "    }\n",
       "\n",
       "    .dataframe tbody tr th {\n",
       "        vertical-align: top;\n",
       "    }\n",
       "\n",
       "    .dataframe thead th {\n",
       "        text-align: right;\n",
       "    }\n",
       "</style>\n",
       "<table border=\"1\" class=\"dataframe\">\n",
       "  <thead>\n",
       "    <tr style=\"text-align: right;\">\n",
       "      <th></th>\n",
       "      <th>ImageId</th>\n",
       "      <th>class_0</th>\n",
       "      <th>class_1</th>\n",
       "      <th>class_2</th>\n",
       "      <th>class_3</th>\n",
       "      <th>class_4</th>\n",
       "      <th>class_5</th>\n",
       "      <th>class_6</th>\n",
       "      <th>class_7</th>\n",
       "      <th>class_8</th>\n",
       "      <th>...</th>\n",
       "      <th>class_71</th>\n",
       "      <th>class_72</th>\n",
       "      <th>class_73</th>\n",
       "      <th>class_74</th>\n",
       "      <th>class_75</th>\n",
       "      <th>class_76</th>\n",
       "      <th>class_77</th>\n",
       "      <th>class_78</th>\n",
       "      <th>class_79</th>\n",
       "      <th>targetScore</th>\n",
       "    </tr>\n",
       "  </thead>\n",
       "  <tbody>\n",
       "    <tr>\n",
       "      <th>0</th>\n",
       "      <td>000001306cae19a89e295296b506bab7</td>\n",
       "      <td>0.069727</td>\n",
       "      <td>0.0</td>\n",
       "      <td>0.0</td>\n",
       "      <td>0.0</td>\n",
       "      <td>0.0</td>\n",
       "      <td>0.0</td>\n",
       "      <td>0.0</td>\n",
       "      <td>0.0</td>\n",
       "      <td>0.0</td>\n",
       "      <td>...</td>\n",
       "      <td>0.0</td>\n",
       "      <td>0.0</td>\n",
       "      <td>0.0</td>\n",
       "      <td>0.0</td>\n",
       "      <td>0.0</td>\n",
       "      <td>0.0</td>\n",
       "      <td>0.0</td>\n",
       "      <td>0.0</td>\n",
       "      <td>0.000000</td>\n",
       "      <td>0</td>\n",
       "    </tr>\n",
       "    <tr>\n",
       "      <th>1</th>\n",
       "      <td>000006419b6c05ec9cf30ef466dd8fec</td>\n",
       "      <td>0.058808</td>\n",
       "      <td>0.0</td>\n",
       "      <td>0.0</td>\n",
       "      <td>0.0</td>\n",
       "      <td>0.0</td>\n",
       "      <td>0.0</td>\n",
       "      <td>0.0</td>\n",
       "      <td>0.0</td>\n",
       "      <td>0.0</td>\n",
       "      <td>...</td>\n",
       "      <td>0.0</td>\n",
       "      <td>0.0</td>\n",
       "      <td>0.0</td>\n",
       "      <td>0.0</td>\n",
       "      <td>0.0</td>\n",
       "      <td>0.0</td>\n",
       "      <td>0.0</td>\n",
       "      <td>0.0</td>\n",
       "      <td>2.693916</td>\n",
       "      <td>6</td>\n",
       "    </tr>\n",
       "    <tr>\n",
       "      <th>2</th>\n",
       "      <td>000007d3372fb4688f870cb150d551f8</td>\n",
       "      <td>0.058399</td>\n",
       "      <td>0.0</td>\n",
       "      <td>0.0</td>\n",
       "      <td>0.0</td>\n",
       "      <td>0.0</td>\n",
       "      <td>0.0</td>\n",
       "      <td>0.0</td>\n",
       "      <td>0.0</td>\n",
       "      <td>0.0</td>\n",
       "      <td>...</td>\n",
       "      <td>0.0</td>\n",
       "      <td>0.0</td>\n",
       "      <td>0.0</td>\n",
       "      <td>0.0</td>\n",
       "      <td>0.0</td>\n",
       "      <td>0.0</td>\n",
       "      <td>0.0</td>\n",
       "      <td>0.0</td>\n",
       "      <td>0.000000</td>\n",
       "      <td>0</td>\n",
       "    </tr>\n",
       "    <tr>\n",
       "      <th>3</th>\n",
       "      <td>000010bc53c1c6c567c112b7a17227fa</td>\n",
       "      <td>0.022514</td>\n",
       "      <td>0.0</td>\n",
       "      <td>0.0</td>\n",
       "      <td>0.0</td>\n",
       "      <td>0.0</td>\n",
       "      <td>0.0</td>\n",
       "      <td>0.0</td>\n",
       "      <td>0.0</td>\n",
       "      <td>0.0</td>\n",
       "      <td>...</td>\n",
       "      <td>0.0</td>\n",
       "      <td>0.0</td>\n",
       "      <td>0.0</td>\n",
       "      <td>0.0</td>\n",
       "      <td>0.0</td>\n",
       "      <td>0.0</td>\n",
       "      <td>0.0</td>\n",
       "      <td>0.0</td>\n",
       "      <td>0.000000</td>\n",
       "      <td>0</td>\n",
       "    </tr>\n",
       "    <tr>\n",
       "      <th>4</th>\n",
       "      <td>00001a68648da02922172a45b42f5e16</td>\n",
       "      <td>0.000000</td>\n",
       "      <td>0.0</td>\n",
       "      <td>0.0</td>\n",
       "      <td>0.0</td>\n",
       "      <td>0.0</td>\n",
       "      <td>0.0</td>\n",
       "      <td>0.0</td>\n",
       "      <td>0.0</td>\n",
       "      <td>0.0</td>\n",
       "      <td>...</td>\n",
       "      <td>0.0</td>\n",
       "      <td>0.0</td>\n",
       "      <td>0.0</td>\n",
       "      <td>0.0</td>\n",
       "      <td>0.0</td>\n",
       "      <td>0.0</td>\n",
       "      <td>0.0</td>\n",
       "      <td>0.0</td>\n",
       "      <td>0.000000</td>\n",
       "      <td>1</td>\n",
       "    </tr>\n",
       "  </tbody>\n",
       "</table>\n",
       "<p>5 rows × 82 columns</p>\n",
       "</div>"
      ],
      "text/plain": [
       "                            ImageId   class_0  class_1  class_2  class_3  \\\n",
       "0  000001306cae19a89e295296b506bab7  0.069727      0.0      0.0      0.0   \n",
       "1  000006419b6c05ec9cf30ef466dd8fec  0.058808      0.0      0.0      0.0   \n",
       "2  000007d3372fb4688f870cb150d551f8  0.058399      0.0      0.0      0.0   \n",
       "3  000010bc53c1c6c567c112b7a17227fa  0.022514      0.0      0.0      0.0   \n",
       "4  00001a68648da02922172a45b42f5e16  0.000000      0.0      0.0      0.0   \n",
       "\n",
       "   class_4  class_5  class_6  class_7  class_8  ...  class_71  class_72  \\\n",
       "0      0.0      0.0      0.0      0.0      0.0  ...       0.0       0.0   \n",
       "1      0.0      0.0      0.0      0.0      0.0  ...       0.0       0.0   \n",
       "2      0.0      0.0      0.0      0.0      0.0  ...       0.0       0.0   \n",
       "3      0.0      0.0      0.0      0.0      0.0  ...       0.0       0.0   \n",
       "4      0.0      0.0      0.0      0.0      0.0  ...       0.0       0.0   \n",
       "\n",
       "   class_73  class_74  class_75  class_76  class_77  class_78  class_79  \\\n",
       "0       0.0       0.0       0.0       0.0       0.0       0.0  0.000000   \n",
       "1       0.0       0.0       0.0       0.0       0.0       0.0  2.693916   \n",
       "2       0.0       0.0       0.0       0.0       0.0       0.0  0.000000   \n",
       "3       0.0       0.0       0.0       0.0       0.0       0.0  0.000000   \n",
       "4       0.0       0.0       0.0       0.0       0.0       0.0  0.000000   \n",
       "\n",
       "   targetScore  \n",
       "0            0  \n",
       "1            6  \n",
       "2            0  \n",
       "3            0  \n",
       "4            1  \n",
       "\n",
       "[5 rows x 82 columns]"
      ]
     },
     "execution_count": 22,
     "metadata": {},
     "output_type": "execute_result"
    }
   ],
   "source": [
    "df = pd.merge(left=df, right=dfTarget, on='ImageId')\n",
    "df.head()"
   ]
  },
  {
   "cell_type": "code",
   "execution_count": 23,
   "metadata": {},
   "outputs": [],
   "source": [
    "df.to_pickle('trainWithtargetDF.pkl')"
   ]
  },
  {
   "cell_type": "markdown",
   "metadata": {},
   "source": [
    "# Analise features"
   ]
  },
  {
   "cell_type": "code",
   "execution_count": 27,
   "metadata": {},
   "outputs": [],
   "source": [
    "X = df[df.columns[1:-1]].values"
   ]
  },
  {
   "cell_type": "code",
   "execution_count": 30,
   "metadata": {},
   "outputs": [
    {
     "name": "stdout",
     "output_type": "stream",
     "text": [
      "(1442263, 80)\n",
      "115381040\n"
     ]
    }
   ],
   "source": [
    "print(X.shape)\n",
    "print(X.shape[0]*X.shape[1])"
   ]
  },
  {
   "cell_type": "code",
   "execution_count": 29,
   "metadata": {},
   "outputs": [
    {
     "name": "stdout",
     "output_type": "stream",
     "text": [
      "non zero elements: 6286996\n"
     ]
    }
   ],
   "source": [
    "print('non zero elements: ' + str(np.sum(X>0)))"
   ]
  },
  {
   "cell_type": "code",
   "execution_count": 31,
   "metadata": {},
   "outputs": [
    {
     "name": "stdout",
     "output_type": "stream",
     "text": [
      "big enought elements: 1420420\n"
     ]
    }
   ],
   "source": [
    "print('big enought elements: ' + str(np.sum(X>0.5)))"
   ]
  },
  {
   "cell_type": "code",
   "execution_count": 33,
   "metadata": {},
   "outputs": [
    {
     "data": {
      "text/plain": [
       "114199"
      ]
     },
     "execution_count": 33,
     "metadata": {},
     "output_type": "execute_result"
    }
   ],
   "source": [
    "print('Number of zero rows:' + str(np.all(X == 0, axis=1).sum()))"
   ]
  },
  {
   "cell_type": "code",
   "execution_count": 36,
   "metadata": {},
   "outputs": [
    {
     "name": "stdout",
     "output_type": "stream",
     "text": [
      "Number of zero columns:0\n"
     ]
    }
   ],
   "source": [
    "print('Number of zero columns:' + str(np.all(X < 0.5, axis=0).sum()))"
   ]
  },
  {
   "cell_type": "code",
   "execution_count": null,
   "metadata": {},
   "outputs": [],
   "source": []
  }
 ],
 "metadata": {
  "kernelspec": {
   "display_name": "Python 3",
   "language": "python",
   "name": "python3"
  },
  "language_info": {
   "codemirror_mode": {
    "name": "ipython",
    "version": 3
   },
   "file_extension": ".py",
   "mimetype": "text/x-python",
   "name": "python",
   "nbconvert_exporter": "python",
   "pygments_lexer": "ipython3",
   "version": "3.7.2"
  }
 },
 "nbformat": 4,
 "nbformat_minor": 2
}
