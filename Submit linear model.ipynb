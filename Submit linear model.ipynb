{
 "cells": [
  {
   "cell_type": "code",
   "execution_count": 1,
   "metadata": {},
   "outputs": [],
   "source": [
    "import pandas as pd\n",
    "import numpy as np\n",
    "import pyarrow.parquet as parquet"
   ]
  },
  {
   "cell_type": "code",
   "execution_count": 2,
   "metadata": {},
   "outputs": [],
   "source": [
    "# Where the downloaded data are\n",
    "input_path = '/home/adeykin/projects/SNAHackaton'\n",
    "# Where to store results\n",
    "output_path = '/home/adeykin/projects/SNAHackaton/out'"
   ]
  },
  {
   "cell_type": "code",
   "execution_count": 3,
   "metadata": {},
   "outputs": [
    {
     "data": {
      "text/html": [
       "<div>\n",
       "<style scoped>\n",
       "    .dataframe tbody tr th:only-of-type {\n",
       "        vertical-align: middle;\n",
       "    }\n",
       "\n",
       "    .dataframe tbody tr th {\n",
       "        vertical-align: top;\n",
       "    }\n",
       "\n",
       "    .dataframe thead th {\n",
       "        text-align: right;\n",
       "    }\n",
       "</style>\n",
       "<table border=\"1\" class=\"dataframe\">\n",
       "  <thead>\n",
       "    <tr style=\"text-align: right;\">\n",
       "      <th></th>\n",
       "      <th>instanceId_userId</th>\n",
       "      <th>instanceId_objectId</th>\n",
       "      <th>ImageId</th>\n",
       "    </tr>\n",
       "  </thead>\n",
       "  <tbody>\n",
       "    <tr>\n",
       "      <th>0</th>\n",
       "      <td>602</td>\n",
       "      <td>25708174</td>\n",
       "      <td>[d215ecd5da0a088db89b97db3b6e811a]</td>\n",
       "    </tr>\n",
       "    <tr>\n",
       "      <th>1</th>\n",
       "      <td>602</td>\n",
       "      <td>24393746</td>\n",
       "      <td>[79eacdd5e803ad80d1c62de4047d74ad]</td>\n",
       "    </tr>\n",
       "    <tr>\n",
       "      <th>2</th>\n",
       "      <td>803</td>\n",
       "      <td>25400331</td>\n",
       "      <td>[771591947cf0a72be0702fe53e83fe11]</td>\n",
       "    </tr>\n",
       "    <tr>\n",
       "      <th>3</th>\n",
       "      <td>803</td>\n",
       "      <td>36083673</td>\n",
       "      <td>[86a85b7f9a4f528e87dececd0b400fac]</td>\n",
       "    </tr>\n",
       "    <tr>\n",
       "      <th>4</th>\n",
       "      <td>803</td>\n",
       "      <td>33713302</td>\n",
       "      <td>[244ed11c75d01ab4c22ece5b6ab72f39]</td>\n",
       "    </tr>\n",
       "    <tr>\n",
       "      <th>5</th>\n",
       "      <td>3065</td>\n",
       "      <td>22946340</td>\n",
       "      <td>[269d9e263e34733e92944380a12b23ac]</td>\n",
       "    </tr>\n",
       "    <tr>\n",
       "      <th>6</th>\n",
       "      <td>3065</td>\n",
       "      <td>38325772</td>\n",
       "      <td>[056a349e7c71694baab197b79fe9b7d3]</td>\n",
       "    </tr>\n",
       "    <tr>\n",
       "      <th>7</th>\n",
       "      <td>3065</td>\n",
       "      <td>36426827</td>\n",
       "      <td>[24fec4db493603e1d546bcb6b71a5ae3]</td>\n",
       "    </tr>\n",
       "    <tr>\n",
       "      <th>8</th>\n",
       "      <td>3065</td>\n",
       "      <td>37549050</td>\n",
       "      <td>[9bc47732b71a66f12248649eef291ed5]</td>\n",
       "    </tr>\n",
       "    <tr>\n",
       "      <th>9</th>\n",
       "      <td>3065</td>\n",
       "      <td>20719945</td>\n",
       "      <td>[8e16231d4adb8e91d4fc13d949f1e2ce]</td>\n",
       "    </tr>\n",
       "  </tbody>\n",
       "</table>\n",
       "</div>"
      ],
      "text/plain": [
       "   instanceId_userId  instanceId_objectId                             ImageId\n",
       "0                602             25708174  [d215ecd5da0a088db89b97db3b6e811a]\n",
       "1                602             24393746  [79eacdd5e803ad80d1c62de4047d74ad]\n",
       "2                803             25400331  [771591947cf0a72be0702fe53e83fe11]\n",
       "3                803             36083673  [86a85b7f9a4f528e87dececd0b400fac]\n",
       "4                803             33713302  [244ed11c75d01ab4c22ece5b6ab72f39]\n",
       "5               3065             22946340  [269d9e263e34733e92944380a12b23ac]\n",
       "6               3065             38325772  [056a349e7c71694baab197b79fe9b7d3]\n",
       "7               3065             36426827  [24fec4db493603e1d546bcb6b71a5ae3]\n",
       "8               3065             37549050  [9bc47732b71a66f12248649eef291ed5]\n",
       "9               3065             20719945  [8e16231d4adb8e91d4fc13d949f1e2ce]"
      ]
     },
     "execution_count": 3,
     "metadata": {},
     "output_type": "execute_result"
    }
   ],
   "source": [
    "test = parquet.read_table(input_path + '/imagesTest', \\\n",
    "                          columns = ['instanceId_userId', 'instanceId_objectId','ImageId']).to_pandas()\n",
    "test.head(10)"
   ]
  },
  {
   "cell_type": "code",
   "execution_count": 4,
   "metadata": {},
   "outputs": [],
   "source": [
    "test['ImageId'] = test['ImageId'].map(lambda x: x[0])"
   ]
  },
  {
   "cell_type": "code",
   "execution_count": 5,
   "metadata": {},
   "outputs": [],
   "source": [
    "prediction = pd.read_pickle('predictLinear.pkl')"
   ]
  },
  {
   "cell_type": "code",
   "execution_count": 6,
   "metadata": {},
   "outputs": [
    {
     "data": {
      "text/plain": [
       "(352505, 2)"
      ]
     },
     "execution_count": 6,
     "metadata": {},
     "output_type": "execute_result"
    }
   ],
   "source": [
    "prediction.shape"
   ]
  },
  {
   "cell_type": "code",
   "execution_count": 7,
   "metadata": {},
   "outputs": [],
   "source": [
    "df = pd.merge(left=test, right=prediction, left_on='ImageId', right_on='fileName')"
   ]
  },
  {
   "cell_type": "code",
   "execution_count": 62,
   "metadata": {},
   "outputs": [
    {
     "data": {
      "text/html": [
       "<div>\n",
       "<style scoped>\n",
       "    .dataframe tbody tr th:only-of-type {\n",
       "        vertical-align: middle;\n",
       "    }\n",
       "\n",
       "    .dataframe tbody tr th {\n",
       "        vertical-align: top;\n",
       "    }\n",
       "\n",
       "    .dataframe thead th {\n",
       "        text-align: right;\n",
       "    }\n",
       "</style>\n",
       "<table border=\"1\" class=\"dataframe\">\n",
       "  <thead>\n",
       "    <tr style=\"text-align: right;\">\n",
       "      <th></th>\n",
       "      <th>instanceId_userId</th>\n",
       "      <th>instanceId_objectId</th>\n",
       "      <th>ImageId</th>\n",
       "    </tr>\n",
       "  </thead>\n",
       "  <tbody>\n",
       "    <tr>\n",
       "      <th>1052816</th>\n",
       "      <td>81068</td>\n",
       "      <td>39130491</td>\n",
       "      <td>ffc2840a51af8d8775952b6dc0596297</td>\n",
       "    </tr>\n",
       "    <tr>\n",
       "      <th>1052817</th>\n",
       "      <td>81068</td>\n",
       "      <td>30683059</td>\n",
       "      <td>44f4c7ffb79945263d29e584bfc135b3</td>\n",
       "    </tr>\n",
       "  </tbody>\n",
       "</table>\n",
       "</div>"
      ],
      "text/plain": [
       "         instanceId_userId  instanceId_objectId  \\\n",
       "1052816              81068             39130491   \n",
       "1052817              81068             30683059   \n",
       "\n",
       "                                  ImageId  \n",
       "1052816  ffc2840a51af8d8775952b6dc0596297  \n",
       "1052817  44f4c7ffb79945263d29e584bfc135b3  "
      ]
     },
     "execution_count": 62,
     "metadata": {},
     "output_type": "execute_result"
    }
   ],
   "source": [
    "test[test['instanceId_userId']==81068]"
   ]
  },
  {
   "cell_type": "code",
   "execution_count": 64,
   "metadata": {},
   "outputs": [
    {
     "data": {
      "text/html": [
       "<div>\n",
       "<style scoped>\n",
       "    .dataframe tbody tr th:only-of-type {\n",
       "        vertical-align: middle;\n",
       "    }\n",
       "\n",
       "    .dataframe tbody tr th {\n",
       "        vertical-align: top;\n",
       "    }\n",
       "\n",
       "    .dataframe thead th {\n",
       "        text-align: right;\n",
       "    }\n",
       "</style>\n",
       "<table border=\"1\" class=\"dataframe\">\n",
       "  <thead>\n",
       "    <tr style=\"text-align: right;\">\n",
       "      <th></th>\n",
       "      <th>fileName</th>\n",
       "      <th>score</th>\n",
       "    </tr>\n",
       "  </thead>\n",
       "  <tbody>\n",
       "    <tr>\n",
       "      <th>95326</th>\n",
       "      <td>44f4c7ffb79945263d29e584bfc135b3</td>\n",
       "      <td>1.381083</td>\n",
       "    </tr>\n",
       "  </tbody>\n",
       "</table>\n",
       "</div>"
      ],
      "text/plain": [
       "                               fileName     score\n",
       "95326  44f4c7ffb79945263d29e584bfc135b3  1.381083"
      ]
     },
     "execution_count": 64,
     "metadata": {},
     "output_type": "execute_result"
    }
   ],
   "source": [
    "prediction[prediction['fileName'] == '44f4c7ffb79945263d29e584bfc135b3']"
   ]
  },
  {
   "cell_type": "code",
   "execution_count": 65,
   "metadata": {},
   "outputs": [
    {
     "data": {
      "text/html": [
       "<div>\n",
       "<style scoped>\n",
       "    .dataframe tbody tr th:only-of-type {\n",
       "        vertical-align: middle;\n",
       "    }\n",
       "\n",
       "    .dataframe tbody tr th {\n",
       "        vertical-align: top;\n",
       "    }\n",
       "\n",
       "    .dataframe thead th {\n",
       "        text-align: right;\n",
       "    }\n",
       "</style>\n",
       "<table border=\"1\" class=\"dataframe\">\n",
       "  <thead>\n",
       "    <tr style=\"text-align: right;\">\n",
       "      <th></th>\n",
       "      <th>fileName</th>\n",
       "      <th>score</th>\n",
       "    </tr>\n",
       "  </thead>\n",
       "  <tbody>\n",
       "    <tr>\n",
       "      <th>352351</th>\n",
       "      <td>ffc2840a51af8d8775952b6dc0596297</td>\n",
       "      <td>1.174339</td>\n",
       "    </tr>\n",
       "  </tbody>\n",
       "</table>\n",
       "</div>"
      ],
      "text/plain": [
       "                                fileName     score\n",
       "352351  ffc2840a51af8d8775952b6dc0596297  1.174339"
      ]
     },
     "execution_count": 65,
     "metadata": {},
     "output_type": "execute_result"
    }
   ],
   "source": [
    "prediction[prediction['fileName'] == 'ffc2840a51af8d8775952b6dc0596297']"
   ]
  },
  {
   "cell_type": "code",
   "execution_count": 66,
   "metadata": {},
   "outputs": [
    {
     "data": {
      "text/html": [
       "<div>\n",
       "<style scoped>\n",
       "    .dataframe tbody tr th:only-of-type {\n",
       "        vertical-align: middle;\n",
       "    }\n",
       "\n",
       "    .dataframe tbody tr th {\n",
       "        vertical-align: top;\n",
       "    }\n",
       "\n",
       "    .dataframe thead th {\n",
       "        text-align: right;\n",
       "    }\n",
       "</style>\n",
       "<table border=\"1\" class=\"dataframe\">\n",
       "  <thead>\n",
       "    <tr style=\"text-align: right;\">\n",
       "      <th></th>\n",
       "      <th>instanceId_userId</th>\n",
       "      <th>instanceId_objectId</th>\n",
       "      <th>ImageId</th>\n",
       "      <th>fileName</th>\n",
       "      <th>score</th>\n",
       "    </tr>\n",
       "  </thead>\n",
       "  <tbody>\n",
       "    <tr>\n",
       "      <th>83173</th>\n",
       "      <td>81068</td>\n",
       "      <td>30683059</td>\n",
       "      <td>44f4c7ffb79945263d29e584bfc135b3</td>\n",
       "      <td>44f4c7ffb79945263d29e584bfc135b3</td>\n",
       "      <td>1.381083</td>\n",
       "    </tr>\n",
       "    <tr>\n",
       "      <th>98410</th>\n",
       "      <td>81068</td>\n",
       "      <td>39130491</td>\n",
       "      <td>ffc2840a51af8d8775952b6dc0596297</td>\n",
       "      <td>ffc2840a51af8d8775952b6dc0596297</td>\n",
       "      <td>1.174339</td>\n",
       "    </tr>\n",
       "  </tbody>\n",
       "</table>\n",
       "</div>"
      ],
      "text/plain": [
       "       instanceId_userId  instanceId_objectId  \\\n",
       "83173              81068             30683059   \n",
       "98410              81068             39130491   \n",
       "\n",
       "                                ImageId                          fileName  \\\n",
       "83173  44f4c7ffb79945263d29e584bfc135b3  44f4c7ffb79945263d29e584bfc135b3   \n",
       "98410  ffc2840a51af8d8775952b6dc0596297  ffc2840a51af8d8775952b6dc0596297   \n",
       "\n",
       "          score  \n",
       "83173  1.381083  \n",
       "98410  1.174339  "
      ]
     },
     "execution_count": 66,
     "metadata": {},
     "output_type": "execute_result"
    }
   ],
   "source": [
    "df[df['instanceId_userId']==81068]"
   ]
  },
  {
   "cell_type": "code",
   "execution_count": 67,
   "metadata": {},
   "outputs": [
    {
     "data": {
      "text/plain": [
       "(209109,)"
      ]
     },
     "execution_count": 67,
     "metadata": {},
     "output_type": "execute_result"
    }
   ],
   "source": [
    "test['ImageId'].unique().shape"
   ]
  },
  {
   "cell_type": "code",
   "execution_count": 68,
   "metadata": {},
   "outputs": [
    {
     "data": {
      "text/plain": [
       "(352505,)"
      ]
     },
     "execution_count": 68,
     "metadata": {},
     "output_type": "execute_result"
    }
   ],
   "source": [
    "prediction['fileName'].unique().shape"
   ]
  },
  {
   "cell_type": "code",
   "execution_count": 38,
   "metadata": {},
   "outputs": [],
   "source": [
    "index1 = pd.Index(test['ImageId'].unique())"
   ]
  },
  {
   "cell_type": "code",
   "execution_count": 29,
   "metadata": {},
   "outputs": [],
   "source": [
    "index2 = pd.Index(prediction['fileName'])"
   ]
  },
  {
   "cell_type": "code",
   "execution_count": 41,
   "metadata": {},
   "outputs": [
    {
     "data": {
      "text/plain": [
       "Index(['ffa1e48d38ba1a9b4e467827824c6aa3', 'ffa1efa525510797fdd79d3948516533',\n",
       "       'ffa285cfd9daf34557a923b956751f07', 'ffa29a3cde90d43d51c7e983b21c5846',\n",
       "       'ffa2bf4f6386a13b4242feea935a1294', 'ffa2fa0f58a826ecfd67ddba2ee356b1',\n",
       "       'ffa3169c04d1156cf631592ceed3d654', 'ffa345c11a0db89196824bd32df2c7f9',\n",
       "       'ffa3d3670eb6630e1beaf9bdea772192', 'ffa3d6ff3ba68f249605cfc0aaeca2cf',\n",
       "       ...\n",
       "       'fffd91bb314529124b460c6b7f67d069', 'fffdeda85d1ab35f339e48965624633e',\n",
       "       'fffe70bbd6fb598d14867960c951a6f0', 'fffe86950f93056dfeb34071e72a1473',\n",
       "       'ffff1b3e86ad950f1d2859f12ddea86d', 'ffff2678f0920341dc88155a7023b5d5',\n",
       "       'ffff2fff03647b647b7de95c31e2db1c', 'ffff751415b974c0a8f1e771d8d91a1e',\n",
       "       'ffffb57a60944c68b2bf15bce4bbf931', 'ffffb90d6cea12b3cc2d637738635abd'],\n",
       "      dtype='object', length=295)"
      ]
     },
     "execution_count": 41,
     "metadata": {},
     "output_type": "execute_result"
    }
   ],
   "source": [
    "d = index1.difference(index2)\n",
    "d"
   ]
  },
  {
   "cell_type": "code",
   "execution_count": 44,
   "metadata": {},
   "outputs": [
    {
     "data": {
      "text/plain": [
       "Index(['ffc2840a51af8d8775952b6dc0596297'], dtype='object')"
      ]
     },
     "execution_count": 44,
     "metadata": {},
     "output_type": "execute_result"
    }
   ],
   "source": [
    "d[d == 'ffc2840a51af8d8775952b6dc0596297']"
   ]
  },
  {
   "cell_type": "code",
   "execution_count": 51,
   "metadata": {},
   "outputs": [
    {
     "data": {
      "text/plain": [
       "Index(['ffa1e48d38ba1a9b4e467827824c6aa3', 'ffa1efa525510797fdd79d3948516533',\n",
       "       'ffa285cfd9daf34557a923b956751f07', 'ffa29a3cde90d43d51c7e983b21c5846',\n",
       "       'ffa2bf4f6386a13b4242feea935a1294', 'ffa2fa0f58a826ecfd67ddba2ee356b1',\n",
       "       'ffa3169c04d1156cf631592ceed3d654', 'ffa345c11a0db89196824bd32df2c7f9',\n",
       "       'ffa3d3670eb6630e1beaf9bdea772192', 'ffa3d6ff3ba68f249605cfc0aaeca2cf',\n",
       "       ...\n",
       "       'fffd91bb314529124b460c6b7f67d069', 'fffdeda85d1ab35f339e48965624633e',\n",
       "       'fffe70bbd6fb598d14867960c951a6f0', 'fffe86950f93056dfeb34071e72a1473',\n",
       "       'ffff1b3e86ad950f1d2859f12ddea86d', 'ffff2678f0920341dc88155a7023b5d5',\n",
       "       'ffff2fff03647b647b7de95c31e2db1c', 'ffff751415b974c0a8f1e771d8d91a1e',\n",
       "       'ffffb57a60944c68b2bf15bce4bbf931', 'ffffb90d6cea12b3cc2d637738635abd'],\n",
       "      dtype='object', length=295)"
      ]
     },
     "execution_count": 51,
     "metadata": {},
     "output_type": "execute_result"
    }
   ],
   "source": [
    "d."
   ]
  },
  {
   "cell_type": "code",
   "execution_count": 49,
   "metadata": {},
   "outputs": [],
   "source": [
    "f = open('overextractList.txt', 'w')\n",
    "for el in d:\n",
    "    f.write(el + '\\n')"
   ]
  },
  {
   "cell_type": "code",
   "execution_count": 39,
   "metadata": {},
   "outputs": [
    {
     "data": {
      "text/plain": [
       "Index(['d215ecd5da0a088db89b97db3b6e811a', '79eacdd5e803ad80d1c62de4047d74ad',\n",
       "       '771591947cf0a72be0702fe53e83fe11', '86a85b7f9a4f528e87dececd0b400fac',\n",
       "       '244ed11c75d01ab4c22ece5b6ab72f39', '269d9e263e34733e92944380a12b23ac',\n",
       "       '056a349e7c71694baab197b79fe9b7d3', '24fec4db493603e1d546bcb6b71a5ae3',\n",
       "       '9bc47732b71a66f12248649eef291ed5', '8e16231d4adb8e91d4fc13d949f1e2ce',\n",
       "       ...\n",
       "       '9df60c38df7b44321409c04da3475dee', '36ee7bdadfc1d66518a1fdf100413351',\n",
       "       '1f9a9b9d1e39b0a5ff114527e02c1597', '1ce872d2291a52f8f1970fa1566194f6',\n",
       "       'ebf2820249d4ec44d9c216faff579ca4', '8d9d769fb79d9b582cd203991d87f122',\n",
       "       'f4493c90da371e1afcf02d45aa48c927', 'b9e72e35ee742e608b55ee5010aeadc2',\n",
       "       '7f9a5ee06efea72d69254884c246262f', '1e1056d1d3fbf3b8f6cf81c4726cfc09'],\n",
       "      dtype='object', length=209109)"
      ]
     },
     "execution_count": 39,
     "metadata": {},
     "output_type": "execute_result"
    }
   ],
   "source": [
    "index1"
   ]
  },
  {
   "cell_type": "code",
   "execution_count": 40,
   "metadata": {},
   "outputs": [
    {
     "data": {
      "text/plain": [
       "Index(['0000247ff80ff7ba0eda80b611fec196', '000042fffe32f5b13211e9e6e44e5402',\n",
       "       '0000d2dacea1db87d58336b5a3411724', '0000e46b41cdfa07fc87bf34434df10c',\n",
       "       '00010a1fb0f14cf2e2acd1a94bfa3a58', '0001342fab36bfb25799e7a06f313b99',\n",
       "       '00015e88eaab7b82715634aa0d94e4c3', '0001b4a10d1a9e95fe892709dd5b1f77',\n",
       "       '0001bc02f2c701aaed3ad93869007aed', '0001d6ef22e79efa27a5ee8b4e1f96fe',\n",
       "       ...\n",
       "       'ff9fca0e3bfa05f87bba3c32cf67f1a5', 'ff9fdf1c960d48fecdfcd891a091dfc3',\n",
       "       'ff9ff62f05d9f40d4973735cc9a05991', 'ffa062e4175416aeb5f6d6b0abc0abb2',\n",
       "       'ffa0a222c5fbe33eb5de0583d472afdd', 'ffa0d3daf2003a6806bde12cef3dba16',\n",
       "       'ffa1314f898ffbcd62ef986fd7cc3adf', 'ffa1bab4fa8aee0af7d41935a241e3c1',\n",
       "       'ffa1bd47a76277301afa3e1675255c5a', 'ffa1d065accce9d6a24e15291b791ac5'],\n",
       "      dtype='object', name='fileName', length=352256)"
      ]
     },
     "execution_count": 40,
     "metadata": {},
     "output_type": "execute_result"
    }
   ],
   "source": [
    "index2"
   ]
  },
  {
   "cell_type": "code",
   "execution_count": null,
   "metadata": {},
   "outputs": [],
   "source": []
  },
  {
   "cell_type": "code",
   "execution_count": 8,
   "metadata": {},
   "outputs": [],
   "source": [
    "df = df[['instanceId_userId', 'instanceId_objectId', 'score']]"
   ]
  },
  {
   "cell_type": "code",
   "execution_count": 70,
   "metadata": {},
   "outputs": [],
   "source": [
    "df['score'] = -df['score']"
   ]
  },
  {
   "cell_type": "code",
   "execution_count": 9,
   "metadata": {},
   "outputs": [
    {
     "data": {
      "text/html": [
       "<div>\n",
       "<style scoped>\n",
       "    .dataframe tbody tr th:only-of-type {\n",
       "        vertical-align: middle;\n",
       "    }\n",
       "\n",
       "    .dataframe tbody tr th {\n",
       "        vertical-align: top;\n",
       "    }\n",
       "\n",
       "    .dataframe thead th {\n",
       "        text-align: right;\n",
       "    }\n",
       "</style>\n",
       "<table border=\"1\" class=\"dataframe\">\n",
       "  <thead>\n",
       "    <tr style=\"text-align: right;\">\n",
       "      <th></th>\n",
       "      <th>instanceId_userId</th>\n",
       "      <th>instanceId_objectId</th>\n",
       "      <th>score</th>\n",
       "    </tr>\n",
       "  </thead>\n",
       "  <tbody>\n",
       "    <tr>\n",
       "      <th>0</th>\n",
       "      <td>602</td>\n",
       "      <td>25708174</td>\n",
       "      <td>1.301579</td>\n",
       "    </tr>\n",
       "    <tr>\n",
       "      <th>1</th>\n",
       "      <td>14437766</td>\n",
       "      <td>25708174</td>\n",
       "      <td>1.301579</td>\n",
       "    </tr>\n",
       "    <tr>\n",
       "      <th>2</th>\n",
       "      <td>5271680</td>\n",
       "      <td>25708174</td>\n",
       "      <td>1.301579</td>\n",
       "    </tr>\n",
       "    <tr>\n",
       "      <th>3</th>\n",
       "      <td>5855396</td>\n",
       "      <td>25708174</td>\n",
       "      <td>1.301579</td>\n",
       "    </tr>\n",
       "    <tr>\n",
       "      <th>4</th>\n",
       "      <td>7150973</td>\n",
       "      <td>25708174</td>\n",
       "      <td>1.301579</td>\n",
       "    </tr>\n",
       "  </tbody>\n",
       "</table>\n",
       "</div>"
      ],
      "text/plain": [
       "   instanceId_userId  instanceId_objectId     score\n",
       "0                602             25708174  1.301579\n",
       "1           14437766             25708174  1.301579\n",
       "2            5271680             25708174  1.301579\n",
       "3            5855396             25708174  1.301579\n",
       "4            7150973             25708174  1.301579"
      ]
     },
     "execution_count": 9,
     "metadata": {},
     "output_type": "execute_result"
    }
   ],
   "source": [
    "df.head()"
   ]
  },
  {
   "cell_type": "code",
   "execution_count": 10,
   "metadata": {},
   "outputs": [],
   "source": [
    "df = df.sort_values(by=['instanceId_userId', 'score', 'instanceId_objectId'], ascending=True)"
   ]
  },
  {
   "cell_type": "code",
   "execution_count": 11,
   "metadata": {},
   "outputs": [
    {
     "data": {
      "text/html": [
       "<div>\n",
       "<style scoped>\n",
       "    .dataframe tbody tr th:only-of-type {\n",
       "        vertical-align: middle;\n",
       "    }\n",
       "\n",
       "    .dataframe tbody tr th {\n",
       "        vertical-align: top;\n",
       "    }\n",
       "\n",
       "    .dataframe thead th {\n",
       "        text-align: right;\n",
       "    }\n",
       "</style>\n",
       "<table border=\"1\" class=\"dataframe\">\n",
       "  <thead>\n",
       "    <tr style=\"text-align: right;\">\n",
       "      <th></th>\n",
       "      <th>instanceId_userId</th>\n",
       "      <th>instanceId_objectId</th>\n",
       "      <th>score</th>\n",
       "    </tr>\n",
       "  </thead>\n",
       "  <tbody>\n",
       "    <tr>\n",
       "      <th>126756</th>\n",
       "      <td>59</td>\n",
       "      <td>29096263</td>\n",
       "      <td>1.381083</td>\n",
       "    </tr>\n",
       "    <tr>\n",
       "      <th>21422</th>\n",
       "      <td>59</td>\n",
       "      <td>39141251</td>\n",
       "      <td>1.516859</td>\n",
       "    </tr>\n",
       "    <tr>\n",
       "      <th>296205</th>\n",
       "      <td>107</td>\n",
       "      <td>39090161</td>\n",
       "      <td>1.117538</td>\n",
       "    </tr>\n",
       "    <tr>\n",
       "      <th>434711</th>\n",
       "      <td>107</td>\n",
       "      <td>22664858</td>\n",
       "      <td>1.171649</td>\n",
       "    </tr>\n",
       "    <tr>\n",
       "      <th>1175021</th>\n",
       "      <td>107</td>\n",
       "      <td>35377184</td>\n",
       "      <td>1.231837</td>\n",
       "    </tr>\n",
       "  </tbody>\n",
       "</table>\n",
       "</div>"
      ],
      "text/plain": [
       "         instanceId_userId  instanceId_objectId     score\n",
       "126756                  59             29096263  1.381083\n",
       "21422                   59             39141251  1.516859\n",
       "296205                 107             39090161  1.117538\n",
       "434711                 107             22664858  1.171649\n",
       "1175021                107             35377184  1.231837"
      ]
     },
     "execution_count": 11,
     "metadata": {},
     "output_type": "execute_result"
    }
   ],
   "source": [
    "df.head()"
   ]
  },
  {
   "cell_type": "code",
   "execution_count": 12,
   "metadata": {},
   "outputs": [
    {
     "data": {
      "text/html": [
       "<div>\n",
       "<style scoped>\n",
       "    .dataframe tbody tr th:only-of-type {\n",
       "        vertical-align: middle;\n",
       "    }\n",
       "\n",
       "    .dataframe tbody tr th {\n",
       "        vertical-align: top;\n",
       "    }\n",
       "\n",
       "    .dataframe thead th {\n",
       "        text-align: right;\n",
       "    }\n",
       "</style>\n",
       "<table border=\"1\" class=\"dataframe\">\n",
       "  <thead>\n",
       "    <tr style=\"text-align: right;\">\n",
       "      <th></th>\n",
       "      <th>instanceId_userId</th>\n",
       "      <th>instanceId_objectId</th>\n",
       "      <th>score</th>\n",
       "    </tr>\n",
       "  </thead>\n",
       "  <tbody>\n",
       "    <tr>\n",
       "      <th>98410</th>\n",
       "      <td>81068</td>\n",
       "      <td>39130491</td>\n",
       "      <td>1.174339</td>\n",
       "    </tr>\n",
       "    <tr>\n",
       "      <th>83173</th>\n",
       "      <td>81068</td>\n",
       "      <td>30683059</td>\n",
       "      <td>1.381083</td>\n",
       "    </tr>\n",
       "  </tbody>\n",
       "</table>\n",
       "</div>"
      ],
      "text/plain": [
       "       instanceId_userId  instanceId_objectId     score\n",
       "98410              81068             39130491  1.174339\n",
       "83173              81068             30683059  1.381083"
      ]
     },
     "execution_count": 12,
     "metadata": {},
     "output_type": "execute_result"
    }
   ],
   "source": [
    "df[df['instanceId_userId']==81068]"
   ]
  },
  {
   "cell_type": "code",
   "execution_count": 13,
   "metadata": {},
   "outputs": [
    {
     "data": {
      "text/plain": [
       "instanceId_userId\n",
       "59                                  [29096263, 39141251]\n",
       "107    [39090161, 22664858, 35377184, 10501436, 20368...\n",
       "158                                 [30223730, 33303760]\n",
       "188                                 [30483180, 37981047]\n",
       "254                                 [15200850, 24219820]\n",
       "377    [16916552, 28882686, 38100230, 37077770, 36170...\n",
       "527             [21421114, 39110394, 39098017, 38334144]\n",
       "602                                 [25708174, 24393746]\n",
       "803                       [33713302, 25400331, 36083673]\n",
       "908                                 [21144274, 39092075]\n",
       "Name: instanceId_objectId, dtype: object"
      ]
     },
     "execution_count": 13,
     "metadata": {},
     "output_type": "execute_result"
    }
   ],
   "source": [
    "submit = df.groupby(\"instanceId_userId\")['instanceId_objectId'].apply(list)\n",
    "submit.head(10)"
   ]
  },
  {
   "cell_type": "code",
   "execution_count": 14,
   "metadata": {},
   "outputs": [],
   "source": [
    "submit.to_csv(output_path + \"/linearModelSubmitReverse.csv.gz\", header = False, compression='gzip')"
   ]
  },
  {
   "cell_type": "code",
   "execution_count": null,
   "metadata": {},
   "outputs": [],
   "source": []
  },
  {
   "cell_type": "code",
   "execution_count": null,
   "metadata": {},
   "outputs": [],
   "source": []
  }
 ],
 "metadata": {
  "kernelspec": {
   "display_name": "Python 3",
   "language": "python",
   "name": "python3"
  },
  "language_info": {
   "codemirror_mode": {
    "name": "ipython",
    "version": 3
   },
   "file_extension": ".py",
   "mimetype": "text/x-python",
   "name": "python",
   "nbconvert_exporter": "python",
   "pygments_lexer": "ipython3",
   "version": "3.7.2"
  }
 },
 "nbformat": 4,
 "nbformat_minor": 2
}
