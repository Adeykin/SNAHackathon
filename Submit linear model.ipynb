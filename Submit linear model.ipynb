{
 "cells": [
  {
   "cell_type": "code",
   "execution_count": 1,
   "metadata": {},
   "outputs": [],
   "source": [
    "import pandas as pd\n",
    "import numpy as np\n",
    "import pyarrow.parquet as parquet"
   ]
  },
  {
   "cell_type": "code",
   "execution_count": 2,
   "metadata": {},
   "outputs": [],
   "source": [
    "# Where the downloaded data are\n",
    "input_path = '/home/adeykin/projects/SNAHackaton'\n",
    "# Where to store results\n",
    "output_path = '/home/adeykin/projects/SNAHackaton/out'"
   ]
  },
  {
   "cell_type": "code",
   "execution_count": 26,
   "metadata": {},
   "outputs": [
    {
     "data": {
      "text/html": [
       "<div>\n",
       "<style scoped>\n",
       "    .dataframe tbody tr th:only-of-type {\n",
       "        vertical-align: middle;\n",
       "    }\n",
       "\n",
       "    .dataframe tbody tr th {\n",
       "        vertical-align: top;\n",
       "    }\n",
       "\n",
       "    .dataframe thead th {\n",
       "        text-align: right;\n",
       "    }\n",
       "</style>\n",
       "<table border=\"1\" class=\"dataframe\">\n",
       "  <thead>\n",
       "    <tr style=\"text-align: right;\">\n",
       "      <th></th>\n",
       "      <th>instanceId_userId</th>\n",
       "      <th>instanceId_objectId</th>\n",
       "      <th>ImageId</th>\n",
       "    </tr>\n",
       "  </thead>\n",
       "  <tbody>\n",
       "    <tr>\n",
       "      <th>0</th>\n",
       "      <td>602</td>\n",
       "      <td>25708174</td>\n",
       "      <td>[d215ecd5da0a088db89b97db3b6e811a]</td>\n",
       "    </tr>\n",
       "    <tr>\n",
       "      <th>1</th>\n",
       "      <td>602</td>\n",
       "      <td>24393746</td>\n",
       "      <td>[79eacdd5e803ad80d1c62de4047d74ad]</td>\n",
       "    </tr>\n",
       "    <tr>\n",
       "      <th>2</th>\n",
       "      <td>803</td>\n",
       "      <td>25400331</td>\n",
       "      <td>[771591947cf0a72be0702fe53e83fe11]</td>\n",
       "    </tr>\n",
       "    <tr>\n",
       "      <th>3</th>\n",
       "      <td>803</td>\n",
       "      <td>36083673</td>\n",
       "      <td>[86a85b7f9a4f528e87dececd0b400fac]</td>\n",
       "    </tr>\n",
       "    <tr>\n",
       "      <th>4</th>\n",
       "      <td>803</td>\n",
       "      <td>33713302</td>\n",
       "      <td>[244ed11c75d01ab4c22ece5b6ab72f39]</td>\n",
       "    </tr>\n",
       "    <tr>\n",
       "      <th>5</th>\n",
       "      <td>3065</td>\n",
       "      <td>22946340</td>\n",
       "      <td>[269d9e263e34733e92944380a12b23ac]</td>\n",
       "    </tr>\n",
       "    <tr>\n",
       "      <th>6</th>\n",
       "      <td>3065</td>\n",
       "      <td>38325772</td>\n",
       "      <td>[056a349e7c71694baab197b79fe9b7d3]</td>\n",
       "    </tr>\n",
       "    <tr>\n",
       "      <th>7</th>\n",
       "      <td>3065</td>\n",
       "      <td>36426827</td>\n",
       "      <td>[24fec4db493603e1d546bcb6b71a5ae3]</td>\n",
       "    </tr>\n",
       "    <tr>\n",
       "      <th>8</th>\n",
       "      <td>3065</td>\n",
       "      <td>37549050</td>\n",
       "      <td>[9bc47732b71a66f12248649eef291ed5]</td>\n",
       "    </tr>\n",
       "    <tr>\n",
       "      <th>9</th>\n",
       "      <td>3065</td>\n",
       "      <td>20719945</td>\n",
       "      <td>[8e16231d4adb8e91d4fc13d949f1e2ce]</td>\n",
       "    </tr>\n",
       "  </tbody>\n",
       "</table>\n",
       "</div>"
      ],
      "text/plain": [
       "   instanceId_userId  instanceId_objectId                             ImageId\n",
       "0                602             25708174  [d215ecd5da0a088db89b97db3b6e811a]\n",
       "1                602             24393746  [79eacdd5e803ad80d1c62de4047d74ad]\n",
       "2                803             25400331  [771591947cf0a72be0702fe53e83fe11]\n",
       "3                803             36083673  [86a85b7f9a4f528e87dececd0b400fac]\n",
       "4                803             33713302  [244ed11c75d01ab4c22ece5b6ab72f39]\n",
       "5               3065             22946340  [269d9e263e34733e92944380a12b23ac]\n",
       "6               3065             38325772  [056a349e7c71694baab197b79fe9b7d3]\n",
       "7               3065             36426827  [24fec4db493603e1d546bcb6b71a5ae3]\n",
       "8               3065             37549050  [9bc47732b71a66f12248649eef291ed5]\n",
       "9               3065             20719945  [8e16231d4adb8e91d4fc13d949f1e2ce]"
      ]
     },
     "execution_count": 26,
     "metadata": {},
     "output_type": "execute_result"
    }
   ],
   "source": [
    "test = parquet.read_table(input_path + '/imagesTest', \\\n",
    "                          columns = ['instanceId_userId', 'instanceId_objectId','ImageId']).to_pandas()\n",
    "test.head(10)"
   ]
  },
  {
   "cell_type": "code",
   "execution_count": 27,
   "metadata": {},
   "outputs": [],
   "source": [
    "test['ImageId'] = test['ImageId'].map(lambda x: x[0])"
   ]
  },
  {
   "cell_type": "code",
   "execution_count": 28,
   "metadata": {},
   "outputs": [],
   "source": [
    "#prediction = pd.read_pickle('predictLinear.pkl')\n",
    "prediction = pd.read_pickle('predictGaussianBayes.pkl')"
   ]
  },
  {
   "cell_type": "code",
   "execution_count": 6,
   "metadata": {},
   "outputs": [
    {
     "data": {
      "text/plain": [
       "(352505, 2)"
      ]
     },
     "execution_count": 6,
     "metadata": {},
     "output_type": "execute_result"
    }
   ],
   "source": [
    "prediction.shape"
   ]
  },
  {
   "cell_type": "code",
   "execution_count": 29,
   "metadata": {},
   "outputs": [],
   "source": [
    "df = pd.merge(left=test, right=prediction, left_on='ImageId', right_on='fileName')"
   ]
  },
  {
   "cell_type": "code",
   "execution_count": 67,
   "metadata": {},
   "outputs": [
    {
     "data": {
      "text/plain": [
       "(209109,)"
      ]
     },
     "execution_count": 67,
     "metadata": {},
     "output_type": "execute_result"
    }
   ],
   "source": [
    "test['ImageId'].unique().shape"
   ]
  },
  {
   "cell_type": "code",
   "execution_count": 68,
   "metadata": {},
   "outputs": [
    {
     "data": {
      "text/plain": [
       "(352505,)"
      ]
     },
     "execution_count": 68,
     "metadata": {},
     "output_type": "execute_result"
    }
   ],
   "source": [
    "prediction['fileName'].unique().shape"
   ]
  },
  {
   "cell_type": "code",
   "execution_count": 30,
   "metadata": {},
   "outputs": [],
   "source": [
    "df = df[['instanceId_userId', 'instanceId_objectId', 'score']]"
   ]
  },
  {
   "cell_type": "code",
   "execution_count": 31,
   "metadata": {},
   "outputs": [],
   "source": [
    "df['score'] = -df['score']"
   ]
  },
  {
   "cell_type": "code",
   "execution_count": 32,
   "metadata": {},
   "outputs": [
    {
     "data": {
      "text/html": [
       "<div>\n",
       "<style scoped>\n",
       "    .dataframe tbody tr th:only-of-type {\n",
       "        vertical-align: middle;\n",
       "    }\n",
       "\n",
       "    .dataframe tbody tr th {\n",
       "        vertical-align: top;\n",
       "    }\n",
       "\n",
       "    .dataframe thead th {\n",
       "        text-align: right;\n",
       "    }\n",
       "</style>\n",
       "<table border=\"1\" class=\"dataframe\">\n",
       "  <thead>\n",
       "    <tr style=\"text-align: right;\">\n",
       "      <th></th>\n",
       "      <th>instanceId_userId</th>\n",
       "      <th>instanceId_objectId</th>\n",
       "      <th>score</th>\n",
       "    </tr>\n",
       "  </thead>\n",
       "  <tbody>\n",
       "    <tr>\n",
       "      <th>0</th>\n",
       "      <td>602</td>\n",
       "      <td>25708174</td>\n",
       "      <td>-0.019393</td>\n",
       "    </tr>\n",
       "    <tr>\n",
       "      <th>1</th>\n",
       "      <td>14437766</td>\n",
       "      <td>25708174</td>\n",
       "      <td>-0.019393</td>\n",
       "    </tr>\n",
       "    <tr>\n",
       "      <th>2</th>\n",
       "      <td>5271680</td>\n",
       "      <td>25708174</td>\n",
       "      <td>-0.019393</td>\n",
       "    </tr>\n",
       "    <tr>\n",
       "      <th>3</th>\n",
       "      <td>5855396</td>\n",
       "      <td>25708174</td>\n",
       "      <td>-0.019393</td>\n",
       "    </tr>\n",
       "    <tr>\n",
       "      <th>4</th>\n",
       "      <td>7150973</td>\n",
       "      <td>25708174</td>\n",
       "      <td>-0.019393</td>\n",
       "    </tr>\n",
       "  </tbody>\n",
       "</table>\n",
       "</div>"
      ],
      "text/plain": [
       "   instanceId_userId  instanceId_objectId     score\n",
       "0                602             25708174 -0.019393\n",
       "1           14437766             25708174 -0.019393\n",
       "2            5271680             25708174 -0.019393\n",
       "3            5855396             25708174 -0.019393\n",
       "4            7150973             25708174 -0.019393"
      ]
     },
     "execution_count": 32,
     "metadata": {},
     "output_type": "execute_result"
    }
   ],
   "source": [
    "df.head()"
   ]
  },
  {
   "cell_type": "code",
   "execution_count": 33,
   "metadata": {},
   "outputs": [],
   "source": [
    "df = df.sort_values(by=['instanceId_userId', 'score', 'instanceId_objectId'], ascending=True)"
   ]
  },
  {
   "cell_type": "code",
   "execution_count": 13,
   "metadata": {},
   "outputs": [
    {
     "data": {
      "text/html": [
       "<div>\n",
       "<style scoped>\n",
       "    .dataframe tbody tr th:only-of-type {\n",
       "        vertical-align: middle;\n",
       "    }\n",
       "\n",
       "    .dataframe tbody tr th {\n",
       "        vertical-align: top;\n",
       "    }\n",
       "\n",
       "    .dataframe thead th {\n",
       "        text-align: right;\n",
       "    }\n",
       "</style>\n",
       "<table border=\"1\" class=\"dataframe\">\n",
       "  <thead>\n",
       "    <tr style=\"text-align: right;\">\n",
       "      <th></th>\n",
       "      <th>instanceId_userId</th>\n",
       "      <th>instanceId_objectId</th>\n",
       "      <th>score</th>\n",
       "    </tr>\n",
       "  </thead>\n",
       "  <tbody>\n",
       "    <tr>\n",
       "      <th>126756</th>\n",
       "      <td>59</td>\n",
       "      <td>29096263</td>\n",
       "      <td>-0.019393</td>\n",
       "    </tr>\n",
       "    <tr>\n",
       "      <th>21422</th>\n",
       "      <td>59</td>\n",
       "      <td>39141251</td>\n",
       "      <td>-0.019393</td>\n",
       "    </tr>\n",
       "    <tr>\n",
       "      <th>228830</th>\n",
       "      <td>107</td>\n",
       "      <td>20368797</td>\n",
       "      <td>-0.019393</td>\n",
       "    </tr>\n",
       "    <tr>\n",
       "      <th>1175021</th>\n",
       "      <td>107</td>\n",
       "      <td>35377184</td>\n",
       "      <td>-0.019393</td>\n",
       "    </tr>\n",
       "    <tr>\n",
       "      <th>759771</th>\n",
       "      <td>107</td>\n",
       "      <td>35614366</td>\n",
       "      <td>-0.019393</td>\n",
       "    </tr>\n",
       "  </tbody>\n",
       "</table>\n",
       "</div>"
      ],
      "text/plain": [
       "         instanceId_userId  instanceId_objectId     score\n",
       "126756                  59             29096263 -0.019393\n",
       "21422                   59             39141251 -0.019393\n",
       "228830                 107             20368797 -0.019393\n",
       "1175021                107             35377184 -0.019393\n",
       "759771                 107             35614366 -0.019393"
      ]
     },
     "execution_count": 13,
     "metadata": {},
     "output_type": "execute_result"
    }
   ],
   "source": [
    "df.head()"
   ]
  },
  {
   "cell_type": "code",
   "execution_count": 21,
   "metadata": {},
   "outputs": [
    {
     "data": {
      "text/html": [
       "<div>\n",
       "<style scoped>\n",
       "    .dataframe tbody tr th:only-of-type {\n",
       "        vertical-align: middle;\n",
       "    }\n",
       "\n",
       "    .dataframe tbody tr th {\n",
       "        vertical-align: top;\n",
       "    }\n",
       "\n",
       "    .dataframe thead th {\n",
       "        text-align: right;\n",
       "    }\n",
       "</style>\n",
       "<table border=\"1\" class=\"dataframe\">\n",
       "  <thead>\n",
       "    <tr style=\"text-align: right;\">\n",
       "      <th></th>\n",
       "      <th>instanceId_userId</th>\n",
       "      <th>instanceId_objectId</th>\n",
       "      <th>score</th>\n",
       "    </tr>\n",
       "  </thead>\n",
       "  <tbody>\n",
       "    <tr>\n",
       "      <th>296205</th>\n",
       "      <td>107</td>\n",
       "      <td>39090161</td>\n",
       "      <td>3.359316e-08</td>\n",
       "    </tr>\n",
       "    <tr>\n",
       "      <th>859207</th>\n",
       "      <td>107</td>\n",
       "      <td>10501436</td>\n",
       "      <td>1.762942e-06</td>\n",
       "    </tr>\n",
       "    <tr>\n",
       "      <th>434711</th>\n",
       "      <td>107</td>\n",
       "      <td>22664858</td>\n",
       "      <td>1.799480e-02</td>\n",
       "    </tr>\n",
       "    <tr>\n",
       "      <th>228830</th>\n",
       "      <td>107</td>\n",
       "      <td>20368797</td>\n",
       "      <td>1.939319e-02</td>\n",
       "    </tr>\n",
       "    <tr>\n",
       "      <th>1175021</th>\n",
       "      <td>107</td>\n",
       "      <td>35377184</td>\n",
       "      <td>1.939319e-02</td>\n",
       "    </tr>\n",
       "    <tr>\n",
       "      <th>759771</th>\n",
       "      <td>107</td>\n",
       "      <td>35614366</td>\n",
       "      <td>1.939319e-02</td>\n",
       "    </tr>\n",
       "    <tr>\n",
       "      <th>1154062</th>\n",
       "      <td>107</td>\n",
       "      <td>38038671</td>\n",
       "      <td>1.939319e-02</td>\n",
       "    </tr>\n",
       "  </tbody>\n",
       "</table>\n",
       "</div>"
      ],
      "text/plain": [
       "         instanceId_userId  instanceId_objectId         score\n",
       "296205                 107             39090161  3.359316e-08\n",
       "859207                 107             10501436  1.762942e-06\n",
       "434711                 107             22664858  1.799480e-02\n",
       "228830                 107             20368797  1.939319e-02\n",
       "1175021                107             35377184  1.939319e-02\n",
       "759771                 107             35614366  1.939319e-02\n",
       "1154062                107             38038671  1.939319e-02"
      ]
     },
     "execution_count": 21,
     "metadata": {},
     "output_type": "execute_result"
    }
   ],
   "source": [
    "df[df['instanceId_userId']==107]"
   ]
  },
  {
   "cell_type": "code",
   "execution_count": 34,
   "metadata": {},
   "outputs": [
    {
     "data": {
      "text/plain": [
       "instanceId_userId\n",
       "59                                  [29096263, 39141251]\n",
       "107    [20368797, 35377184, 35614366, 38038671, 22664...\n",
       "158                                 [30223730, 33303760]\n",
       "188                                 [30483180, 37981047]\n",
       "254                                 [15200850, 24219820]\n",
       "377    [16916552, 36170070, 38100230, 28882686, 37077...\n",
       "527             [21421114, 38334144, 39110394, 39098017]\n",
       "602                                 [24393746, 25708174]\n",
       "803                       [36083673, 25400331, 33713302]\n",
       "908                                 [21144274, 39092075]\n",
       "Name: instanceId_objectId, dtype: object"
      ]
     },
     "execution_count": 34,
     "metadata": {},
     "output_type": "execute_result"
    }
   ],
   "source": [
    "submit = df.groupby(\"instanceId_userId\")['instanceId_objectId'].apply(list)\n",
    "submit.head(10)"
   ]
  },
  {
   "cell_type": "code",
   "execution_count": 35,
   "metadata": {},
   "outputs": [],
   "source": [
    "submit.to_csv(output_path + \"/gaussianBayesModelSubmit_original.csv.gz\", header = False, compression='gzip')"
   ]
  },
  {
   "cell_type": "code",
   "execution_count": 36,
   "metadata": {},
   "outputs": [
    {
     "data": {
      "text/plain": [
       "instanceId_userId\n",
       "59                                  [39141251, 29096263]\n",
       "107    [39090161, 10501436, 22664858, 38038671, 35614...\n",
       "158                                 [33303760, 30223730]\n",
       "188                                 [37981047, 30483180]\n",
       "254                                 [24219820, 15200850]\n",
       "377    [37077770, 28882686, 38100230, 36170070, 16916...\n",
       "527             [39098017, 39110394, 38334144, 21421114]\n",
       "602                                 [25708174, 24393746]\n",
       "803                       [33713302, 25400331, 36083673]\n",
       "908                                 [39092075, 21144274]\n",
       "Name: instanceId_objectId, dtype: object"
      ]
     },
     "execution_count": 36,
     "metadata": {},
     "output_type": "execute_result"
    }
   ],
   "source": [
    "#reverse\n",
    "submit = df.groupby(\"instanceId_userId\")['instanceId_objectId'].apply(list).apply(reversed).apply(list)\n",
    "submit.head(10)"
   ]
  },
  {
   "cell_type": "code",
   "execution_count": 37,
   "metadata": {},
   "outputs": [],
   "source": [
    "submit.to_csv(output_path + \"/gaussianBayesModelSubmit_trueReverse.csv.gz\", header = False, compression='gzip')"
   ]
  },
  {
   "cell_type": "code",
   "execution_count": null,
   "metadata": {},
   "outputs": [],
   "source": []
  },
  {
   "cell_type": "code",
   "execution_count": null,
   "metadata": {},
   "outputs": [],
   "source": []
  }
 ],
 "metadata": {
  "kernelspec": {
   "display_name": "Python 3",
   "language": "python",
   "name": "python3"
  },
  "language_info": {
   "codemirror_mode": {
    "name": "ipython",
    "version": 3
   },
   "file_extension": ".py",
   "mimetype": "text/x-python",
   "name": "python",
   "nbconvert_exporter": "python",
   "pygments_lexer": "ipython3",
   "version": "3.7.2"
  }
 },
 "nbformat": 4,
 "nbformat_minor": 2
}
