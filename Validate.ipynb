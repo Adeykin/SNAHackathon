{
 "cells": [
  {
   "cell_type": "code",
   "execution_count": 1,
   "metadata": {},
   "outputs": [],
   "source": [
    "import pandas as pd\n",
    "import numpy as np\n",
    "import pyarrow.parquet as parquet\n",
    "import sklearn.metrics\n",
    "import pickle"
   ]
  },
  {
   "cell_type": "code",
   "execution_count": 2,
   "metadata": {},
   "outputs": [],
   "source": [
    "#submission = '/home/adeykin/projects/SNAHackaton/out/imagesSubmit.csv'\n",
    "trainMetaPath = '/home/adeykin/projects/SNAHackaton/imagesTrain'"
   ]
  },
  {
   "cell_type": "code",
   "execution_count": 12,
   "metadata": {},
   "outputs": [],
   "source": [
    "users = {}\n",
    "f = open(submission, 'r')\n",
    "for line in f.readlines():\n",
    "    userIdStr, postsListStr = line.split(',', 1)\n",
    "    userId = int(userIdStr)\n",
    "    users[userId] = list(map(int, postsListStr[2:-3].split(',')))\n",
    "    break"
   ]
  },
  {
   "cell_type": "code",
   "execution_count": 13,
   "metadata": {},
   "outputs": [
    {
     "data": {
      "text/plain": [
       "{59: [29096263, 39141251]}"
      ]
     },
     "execution_count": 13,
     "metadata": {},
     "output_type": "execute_result"
    }
   ],
   "source": [
    "users"
   ]
  },
  {
   "cell_type": "code",
   "execution_count": 3,
   "metadata": {},
   "outputs": [],
   "source": [
    "trainMeta = parquet.read_table(trainMetaPath, columns = ['instanceId_userId', 'instanceId_objectId','feedback', 'ImageId']).to_pandas()\n",
    "trainMeta['ImageId'] = trainMeta['ImageId'].map(lambda x: x[0])\n",
    "trainMeta['targetScore'] = trainMeta['feedback'].map(lambda x:  (1 if 'Liked' in x else 0) + (-1 if 'Disliked' in x else 0) )\n",
    "trainMeta.drop(['date','feedback'], axis=1, inplace=True)"
   ]
  },
  {
   "cell_type": "code",
   "execution_count": 4,
   "metadata": {},
   "outputs": [
    {
     "data": {
      "text/html": [
       "<div>\n",
       "<style scoped>\n",
       "    .dataframe tbody tr th:only-of-type {\n",
       "        vertical-align: middle;\n",
       "    }\n",
       "\n",
       "    .dataframe tbody tr th {\n",
       "        vertical-align: top;\n",
       "    }\n",
       "\n",
       "    .dataframe thead th {\n",
       "        text-align: right;\n",
       "    }\n",
       "</style>\n",
       "<table border=\"1\" class=\"dataframe\">\n",
       "  <thead>\n",
       "    <tr style=\"text-align: right;\">\n",
       "      <th></th>\n",
       "      <th>instanceId_userId</th>\n",
       "      <th>instanceId_objectId</th>\n",
       "      <th>ImageId</th>\n",
       "      <th>targetScore</th>\n",
       "    </tr>\n",
       "  </thead>\n",
       "  <tbody>\n",
       "    <tr>\n",
       "      <th>0</th>\n",
       "      <td>116</td>\n",
       "      <td>28780736</td>\n",
       "      <td>1f1614057e4c0c958a90867258fd54d3</td>\n",
       "      <td>0</td>\n",
       "    </tr>\n",
       "    <tr>\n",
       "      <th>1</th>\n",
       "      <td>353</td>\n",
       "      <td>26245790</td>\n",
       "      <td>bf0b69e0ed5d2c7e5c819b19267715aa</td>\n",
       "      <td>0</td>\n",
       "    </tr>\n",
       "    <tr>\n",
       "      <th>2</th>\n",
       "      <td>707</td>\n",
       "      <td>12497594</td>\n",
       "      <td>45a0714d83500065a5e9a60bf960db58</td>\n",
       "      <td>0</td>\n",
       "    </tr>\n",
       "    <tr>\n",
       "      <th>3</th>\n",
       "      <td>1724</td>\n",
       "      <td>16745663</td>\n",
       "      <td>424d49d2a2a6d91d96bc79c7a29dea19</td>\n",
       "      <td>0</td>\n",
       "    </tr>\n",
       "    <tr>\n",
       "      <th>4</th>\n",
       "      <td>1730</td>\n",
       "      <td>13138095</td>\n",
       "      <td>6ba59ce7a8298806cd15d9db568f4959</td>\n",
       "      <td>0</td>\n",
       "    </tr>\n",
       "  </tbody>\n",
       "</table>\n",
       "</div>"
      ],
      "text/plain": [
       "   instanceId_userId  instanceId_objectId                           ImageId  \\\n",
       "0                116             28780736  1f1614057e4c0c958a90867258fd54d3   \n",
       "1                353             26245790  bf0b69e0ed5d2c7e5c819b19267715aa   \n",
       "2                707             12497594  45a0714d83500065a5e9a60bf960db58   \n",
       "3               1724             16745663  424d49d2a2a6d91d96bc79c7a29dea19   \n",
       "4               1730             13138095  6ba59ce7a8298806cd15d9db568f4959   \n",
       "\n",
       "   targetScore  \n",
       "0            0  \n",
       "1            0  \n",
       "2            0  \n",
       "3            0  \n",
       "4            0  "
      ]
     },
     "execution_count": 4,
     "metadata": {},
     "output_type": "execute_result"
    }
   ],
   "source": [
    "trainMeta.head()"
   ]
  },
  {
   "cell_type": "code",
   "execution_count": 5,
   "metadata": {},
   "outputs": [],
   "source": [
    "trainMeta.to_pickle('trainTargetForROC.pkl')"
   ]
  },
  {
   "cell_type": "markdown",
   "metadata": {},
   "source": [
    "# Validate"
   ]
  },
  {
   "cell_type": "code",
   "execution_count": 3,
   "metadata": {},
   "outputs": [],
   "source": [
    "trainMeta = pd.read_pickle('trainTargetForROC.pkl')"
   ]
  },
  {
   "cell_type": "code",
   "execution_count": 4,
   "metadata": {},
   "outputs": [],
   "source": [
    "prediction = pd.read_pickle('trainValidateOnTrainDF.pkl')"
   ]
  },
  {
   "cell_type": "code",
   "execution_count": 5,
   "metadata": {},
   "outputs": [],
   "source": [
    "prediction = pd.merge(left=trainMeta, right=prediction, on='ImageId')"
   ]
  },
  {
   "cell_type": "code",
   "execution_count": 6,
   "metadata": {},
   "outputs": [
    {
     "data": {
      "text/html": [
       "<div>\n",
       "<style scoped>\n",
       "    .dataframe tbody tr th:only-of-type {\n",
       "        vertical-align: middle;\n",
       "    }\n",
       "\n",
       "    .dataframe tbody tr th {\n",
       "        vertical-align: top;\n",
       "    }\n",
       "\n",
       "    .dataframe thead th {\n",
       "        text-align: right;\n",
       "    }\n",
       "</style>\n",
       "<table border=\"1\" class=\"dataframe\">\n",
       "  <thead>\n",
       "    <tr style=\"text-align: right;\">\n",
       "      <th></th>\n",
       "      <th>instanceId_userId</th>\n",
       "      <th>instanceId_objectId</th>\n",
       "      <th>ImageId</th>\n",
       "      <th>targetScore</th>\n",
       "      <th>actualScore</th>\n",
       "    </tr>\n",
       "  </thead>\n",
       "  <tbody>\n",
       "    <tr>\n",
       "      <th>0</th>\n",
       "      <td>116</td>\n",
       "      <td>28780736</td>\n",
       "      <td>1f1614057e4c0c958a90867258fd54d3</td>\n",
       "      <td>0</td>\n",
       "      <td>1.293848</td>\n",
       "    </tr>\n",
       "    <tr>\n",
       "      <th>1</th>\n",
       "      <td>1343897</td>\n",
       "      <td>28780736</td>\n",
       "      <td>1f1614057e4c0c958a90867258fd54d3</td>\n",
       "      <td>0</td>\n",
       "      <td>1.293848</td>\n",
       "    </tr>\n",
       "    <tr>\n",
       "      <th>2</th>\n",
       "      <td>2819768</td>\n",
       "      <td>28780736</td>\n",
       "      <td>1f1614057e4c0c958a90867258fd54d3</td>\n",
       "      <td>0</td>\n",
       "      <td>1.293848</td>\n",
       "    </tr>\n",
       "    <tr>\n",
       "      <th>3</th>\n",
       "      <td>538655</td>\n",
       "      <td>28780736</td>\n",
       "      <td>1f1614057e4c0c958a90867258fd54d3</td>\n",
       "      <td>0</td>\n",
       "      <td>1.293848</td>\n",
       "    </tr>\n",
       "    <tr>\n",
       "      <th>4</th>\n",
       "      <td>15147158</td>\n",
       "      <td>28780736</td>\n",
       "      <td>1f1614057e4c0c958a90867258fd54d3</td>\n",
       "      <td>0</td>\n",
       "      <td>1.293848</td>\n",
       "    </tr>\n",
       "  </tbody>\n",
       "</table>\n",
       "</div>"
      ],
      "text/plain": [
       "   instanceId_userId  instanceId_objectId                           ImageId  \\\n",
       "0                116             28780736  1f1614057e4c0c958a90867258fd54d3   \n",
       "1            1343897             28780736  1f1614057e4c0c958a90867258fd54d3   \n",
       "2            2819768             28780736  1f1614057e4c0c958a90867258fd54d3   \n",
       "3             538655             28780736  1f1614057e4c0c958a90867258fd54d3   \n",
       "4           15147158             28780736  1f1614057e4c0c958a90867258fd54d3   \n",
       "\n",
       "   targetScore  actualScore  \n",
       "0            0     1.293848  \n",
       "1            0     1.293848  \n",
       "2            0     1.293848  \n",
       "3            0     1.293848  \n",
       "4            0     1.293848  "
      ]
     },
     "execution_count": 6,
     "metadata": {},
     "output_type": "execute_result"
    }
   ],
   "source": [
    "prediction.head()"
   ]
  },
  {
   "cell_type": "code",
   "execution_count": 8,
   "metadata": {},
   "outputs": [],
   "source": [
    "g = prediction.groupby('instanceId_userId')"
   ]
  },
  {
   "cell_type": "code",
   "execution_count": 9,
   "metadata": {},
   "outputs": [],
   "source": [
    "k = 0\n",
    "scores = []\n",
    "for i, group in g:\n",
    "    targetScore = group['targetScore'].values\n",
    "    targetScore[targetScore == -1] = 0\n",
    "    if targetScore.min() == targetScore.max():\n",
    "        continue\n",
    "    actualScore = group['actualScore'].values\n",
    "    actualScore /= actualScore.max()\n",
    "    actualScore = 1.0/actualScore\n",
    "    #print(targetScore)\n",
    "    #print(actualScore)\n",
    "    score = sklearn.metrics.roc_auc_score(targetScore, actualScore)\n",
    "    #print(score)\n",
    "    scores.append(score)\n",
    "    #k += 1\n",
    "    #if k > 100:\n",
    "    #    break"
   ]
  },
  {
   "cell_type": "code",
   "execution_count": 43,
   "metadata": {},
   "outputs": [
    {
     "data": {
      "text/plain": [
       "1256203"
      ]
     },
     "execution_count": 43,
     "metadata": {},
     "output_type": "execute_result"
    }
   ],
   "source": [
    "len(scores)"
   ]
  },
  {
   "cell_type": "code",
   "execution_count": 44,
   "metadata": {},
   "outputs": [
    {
     "data": {
      "text/plain": [
       "0.5304517157327377"
      ]
     },
     "execution_count": 44,
     "metadata": {},
     "output_type": "execute_result"
    }
   ],
   "source": [
    "np.array(scores).mean()"
   ]
  },
  {
   "cell_type": "code",
   "execution_count": null,
   "metadata": {},
   "outputs": [],
   "source": [
    "#after reversing\n",
    "np.array(scores).mean()"
   ]
  },
  {
   "cell_type": "code",
   "execution_count": null,
   "metadata": {},
   "outputs": [],
   "source": []
  },
  {
   "cell_type": "code",
   "execution_count": null,
   "metadata": {},
   "outputs": [],
   "source": []
  },
  {
   "cell_type": "code",
   "execution_count": null,
   "metadata": {},
   "outputs": [],
   "source": []
  },
  {
   "cell_type": "code",
   "execution_count": 31,
   "metadata": {},
   "outputs": [
    {
     "name": "stdout",
     "output_type": "stream",
     "text": [
      "[29096263, 39141251]\n",
      "          instanceId_userId  instanceId_objectId  targetScore\n",
      "6782465                  59             26504003            0\n",
      "12775945                 59             34971217            1\n",
      "16198101                 59             11728358            0\n",
      "16595544                 59             11756551            0\n"
     ]
    }
   ],
   "source": [
    "for user, posts in users.items():\n",
    "    print(posts)\n",
    "    print(trainMeta[trainMeta['instanceId_userId']==user])"
   ]
  },
  {
   "cell_type": "code",
   "execution_count": 33,
   "metadata": {},
   "outputs": [],
   "source": [
    "trainActual = pd.read_pickle('trainValidateOnTrainDF.pkl')"
   ]
  },
  {
   "cell_type": "code",
   "execution_count": 34,
   "metadata": {},
   "outputs": [
    {
     "data": {
      "text/html": [
       "<div>\n",
       "<style scoped>\n",
       "    .dataframe tbody tr th:only-of-type {\n",
       "        vertical-align: middle;\n",
       "    }\n",
       "\n",
       "    .dataframe tbody tr th {\n",
       "        vertical-align: top;\n",
       "    }\n",
       "\n",
       "    .dataframe thead th {\n",
       "        text-align: right;\n",
       "    }\n",
       "</style>\n",
       "<table border=\"1\" class=\"dataframe\">\n",
       "  <thead>\n",
       "    <tr style=\"text-align: right;\">\n",
       "      <th></th>\n",
       "      <th>instanceId_userId</th>\n",
       "      <th>instanceId_objectId</th>\n",
       "      <th>targetScore</th>\n",
       "    </tr>\n",
       "  </thead>\n",
       "  <tbody>\n",
       "    <tr>\n",
       "      <th>0</th>\n",
       "      <td>116</td>\n",
       "      <td>28780736</td>\n",
       "      <td>0</td>\n",
       "    </tr>\n",
       "    <tr>\n",
       "      <th>1</th>\n",
       "      <td>353</td>\n",
       "      <td>26245790</td>\n",
       "      <td>0</td>\n",
       "    </tr>\n",
       "    <tr>\n",
       "      <th>2</th>\n",
       "      <td>707</td>\n",
       "      <td>12497594</td>\n",
       "      <td>0</td>\n",
       "    </tr>\n",
       "    <tr>\n",
       "      <th>3</th>\n",
       "      <td>1724</td>\n",
       "      <td>16745663</td>\n",
       "      <td>0</td>\n",
       "    </tr>\n",
       "    <tr>\n",
       "      <th>4</th>\n",
       "      <td>1730</td>\n",
       "      <td>13138095</td>\n",
       "      <td>0</td>\n",
       "    </tr>\n",
       "  </tbody>\n",
       "</table>\n",
       "</div>"
      ],
      "text/plain": [
       "   instanceId_userId  instanceId_objectId  targetScore\n",
       "0                116             28780736            0\n",
       "1                353             26245790            0\n",
       "2                707             12497594            0\n",
       "3               1724             16745663            0\n",
       "4               1730             13138095            0"
      ]
     },
     "execution_count": 34,
     "metadata": {},
     "output_type": "execute_result"
    }
   ],
   "source": [
    "trainMeta.head()"
   ]
  },
  {
   "cell_type": "code",
   "execution_count": 35,
   "metadata": {},
   "outputs": [
    {
     "data": {
      "text/html": [
       "<div>\n",
       "<style scoped>\n",
       "    .dataframe tbody tr th:only-of-type {\n",
       "        vertical-align: middle;\n",
       "    }\n",
       "\n",
       "    .dataframe tbody tr th {\n",
       "        vertical-align: top;\n",
       "    }\n",
       "\n",
       "    .dataframe thead th {\n",
       "        text-align: right;\n",
       "    }\n",
       "</style>\n",
       "<table border=\"1\" class=\"dataframe\">\n",
       "  <thead>\n",
       "    <tr style=\"text-align: right;\">\n",
       "      <th></th>\n",
       "      <th>ImageId</th>\n",
       "      <th>actualScore</th>\n",
       "    </tr>\n",
       "  </thead>\n",
       "  <tbody>\n",
       "    <tr>\n",
       "      <th>0</th>\n",
       "      <td>000001306cae19a89e295296b506bab7</td>\n",
       "      <td>1.390487</td>\n",
       "    </tr>\n",
       "    <tr>\n",
       "      <th>1</th>\n",
       "      <td>000006419b6c05ec9cf30ef466dd8fec</td>\n",
       "      <td>1.304620</td>\n",
       "    </tr>\n",
       "    <tr>\n",
       "      <th>2</th>\n",
       "      <td>000007d3372fb4688f870cb150d551f8</td>\n",
       "      <td>1.307641</td>\n",
       "    </tr>\n",
       "    <tr>\n",
       "      <th>3</th>\n",
       "      <td>000010bc53c1c6c567c112b7a17227fa</td>\n",
       "      <td>0.805069</td>\n",
       "    </tr>\n",
       "    <tr>\n",
       "      <th>4</th>\n",
       "      <td>00001a68648da02922172a45b42f5e16</td>\n",
       "      <td>1.293848</td>\n",
       "    </tr>\n",
       "  </tbody>\n",
       "</table>\n",
       "</div>"
      ],
      "text/plain": [
       "                            ImageId  actualScore\n",
       "0  000001306cae19a89e295296b506bab7     1.390487\n",
       "1  000006419b6c05ec9cf30ef466dd8fec     1.304620\n",
       "2  000007d3372fb4688f870cb150d551f8     1.307641\n",
       "3  000010bc53c1c6c567c112b7a17227fa     0.805069\n",
       "4  00001a68648da02922172a45b42f5e16     1.293848"
      ]
     },
     "execution_count": 35,
     "metadata": {},
     "output_type": "execute_result"
    }
   ],
   "source": [
    "trainActual.head()"
   ]
  },
  {
   "cell_type": "code",
   "execution_count": null,
   "metadata": {},
   "outputs": [],
   "source": []
  }
 ],
 "metadata": {
  "kernelspec": {
   "display_name": "Python 3",
   "language": "python",
   "name": "python3"
  },
  "language_info": {
   "codemirror_mode": {
    "name": "ipython",
    "version": 3
   },
   "file_extension": ".py",
   "mimetype": "text/x-python",
   "name": "python",
   "nbconvert_exporter": "python",
   "pygments_lexer": "ipython3",
   "version": "3.7.2"
  }
 },
 "nbformat": 4,
 "nbformat_minor": 2
}
