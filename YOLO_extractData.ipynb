{
 "cells": [
  {
   "cell_type": "code",
   "execution_count": 7,
   "metadata": {},
   "outputs": [],
   "source": [
    "# Will use pre-trained MXNet model for detecting cats.\n",
    "# See https://gluon-cv.mxnet.io/build/examples_detection/demo_yolo.html#sphx-glr-build-examples-detection-demo-yolo-py\n",
    "from gluoncv import model_zoo, data, utils\n",
    "import mxnet\n",
    "import numpy as np\n",
    "\n",
    "# Utils used to extract images from tars\n",
    "import tarfile\n",
    "import os\n",
    "\n",
    "# Used to display progress message\n",
    "from tqdm import tqdm_notebook\n",
    "\n",
    "# Used to read dataset\n",
    "import pandas\n",
    "import pyarrow.parquet as parquet\n",
    "\n",
    "# Where the downloaded data are\n",
    "input_path = '/home/adeykin/projects/SNAHackaton/'\n",
    "# Where to store results\n",
    "output_path = '/home/adeykin/projects/SNAHackaton/'"
   ]
  },
  {
   "cell_type": "code",
   "execution_count": 3,
   "metadata": {},
   "outputs": [],
   "source": [
    "#ctx = mxnet.gpu(0)\n",
    "ctx = mxnet.cpu(0)"
   ]
  },
  {
   "cell_type": "code",
   "execution_count": 4,
   "metadata": {},
   "outputs": [],
   "source": [
    "# Using the fastest model for detection\n",
    "net = model_zoo.get_model('yolo3_darknet53_coco', pretrained=True, ctx=ctx)"
   ]
  },
  {
   "cell_type": "code",
   "execution_count": 5,
   "metadata": {},
   "outputs": [],
   "source": [
    "def extractFeatures(inputFile, outputFile, batchSize = 37*2):\n",
    "\n",
    "    # Batches speedup inference significantly\n",
    "    #numImages = 352758\n",
    "    numImages = 0\n",
    "    with tarfile.open(input_path + inputFile) as thumbnails:\n",
    "        numImages = sum(1 for member in thumbnails if member.isreg())\n",
    "    print('numImages = ' + str(numImages))\n",
    "\n",
    "    path = './tmp/'\n",
    "    with mxnet.Context(mxnet.gpu(0)):\n",
    "        # Iterate over images in tar, etract, predict, persist results\n",
    "        with tarfile.open(input_path + inputFile) as thumbnails:\n",
    "            with open(output_path + outputFile, 'w') as out:\n",
    "                for batch in tqdm_notebook(range(int(numImages / batchSize))):\n",
    "                    # Accumulate batch results (mxnet has lazy computation model - \n",
    "                    # actuall computation occure when you access the results)\n",
    "                    classes = list()\n",
    "                    scores = list()\n",
    "                    coords = list()\n",
    "                    names = list()\n",
    "                    sizes = list()\n",
    "                    for i in range(batchSize):\n",
    "\n",
    "                        # Extract the image\n",
    "                        image = thumbnails.next()\n",
    "                        imagePath = path + image.name\n",
    "                        thumbnails.extract(image, path)\n",
    "\n",
    "                        # Load and pre-process\n",
    "                        x, _ = data.transforms.presets.yolo.load_test(imagePath, short=120)\n",
    "\n",
    "                        # Predict\n",
    "                        class_IDs, scores_v, coords_v = net(x.as_in_context(ctx))\n",
    "\n",
    "                        # Accumulate\n",
    "                        names.append(image.name)\n",
    "                        classes.append(class_IDs)\n",
    "                        scores.append(scores_v)\n",
    "                        coords.append(coords_v)\n",
    "                        sizes.append((x.shape[2],x.shape[3]))\n",
    "\n",
    "                        # Cleanup\n",
    "                        os.remove(path + image.name)\n",
    "\n",
    "                    # P rocess accumulated batch results\n",
    "                    for class_IDs, scores, name, coords, size in zip(classes,scores,names,coords,sizes):\n",
    "                        resultList = []\n",
    "                        resultList.append(name[0:32])\n",
    "                        resultList.append(str(size[0]))\n",
    "                        resultList.append(str(size[1]))\n",
    "                        classIDsArr = class_IDs.flatten()[0].asnumpy()\n",
    "                        scoresArr = scores.flatten()[0].asnumpy()\n",
    "                        coordsArr = coords.flatten()[0].asnumpy().reshape((-1,4))\n",
    "                        indexes = classIDsArr >= 0\n",
    "                        resultList.append( ','.join(classIDsArr[indexes].astype('int32').astype('str')) )\n",
    "                        resultList.append( ','.join(scoresArr[indexes].astype('str')) )\n",
    "                        resultList.append( ','.join(coordsArr[indexes,:].flatten().astype('str')) )\n",
    "\n",
    "                        out.write( ','.join(resultList) + '\\n')"
   ]
  },
  {
   "cell_type": "code",
   "execution_count": 15,
   "metadata": {},
   "outputs": [
    {
     "data": {
      "application/vnd.jupyter.widget-view+json": {
       "model_id": "e6f0cfe253a541628ff70f444fa4eeb6",
       "version_major": 2,
       "version_minor": 0
      },
      "text/plain": [
       "HBox(children=(IntProgress(value=0, max=344), HTML(value='')))"
      ]
     },
     "metadata": {},
     "output_type": "display_data"
    }
   ],
   "source": [
    "extractFeatures('/imagesThumbnails/testThumbnails.tar', '/testFeatures.csv', 1024)"
   ]
  },
  {
   "cell_type": "code",
   "execution_count": 16,
   "metadata": {},
   "outputs": [
    {
     "data": {
      "application/vnd.jupyter.widget-view+json": {
       "model_id": "568486d5cdbf4c43ac27e9040378cbcc",
       "version_major": 2,
       "version_minor": 0
      },
      "text/plain": [
       "HBox(children=(IntProgress(value=0, max=344), HTML(value='')))"
      ]
     },
     "metadata": {},
     "output_type": "display_data"
    }
   ],
   "source": [
    "extractFeatures('/imagesThumbnails/trainThumbnails.tar', '/trainFeatures.csv', 1024)"
   ]
  },
  {
   "cell_type": "code",
   "execution_count": 6,
   "metadata": {},
   "outputs": [
    {
     "name": "stdout",
     "output_type": "stream",
     "text": [
      "numImages = 1629380\n"
     ]
    },
    {
     "data": {
      "application/vnd.jupyter.widget-view+json": {
       "model_id": "fc432351d03044489e965abfe3a4c0a4",
       "version_major": 2,
       "version_minor": 0
      },
      "text/plain": [
       "HBox(children=(IntProgress(value=0, max=1591), HTML(value='')))"
      ]
     },
     "metadata": {},
     "output_type": "display_data"
    },
    {
     "name": "stdout",
     "output_type": "stream",
     "text": [
      "\n"
     ]
    }
   ],
   "source": [
    "extractFeatures('/imagesThumbnails/trainThumbnails.tar', '/trainFeatures2.csv', 1024)"
   ]
  },
  {
   "cell_type": "code",
   "execution_count": 9,
   "metadata": {},
   "outputs": [
    {
     "name": "stdout",
     "output_type": "stream",
     "text": [
      "numImages = 249\n"
     ]
    },
    {
     "data": {
      "application/vnd.jupyter.widget-view+json": {
       "model_id": "d6b08d3d8e284f1dbae3bb87bd18bc0c",
       "version_major": 2,
       "version_minor": 0
      },
      "text/plain": [
       "HBox(children=(IntProgress(value=0, max=249), HTML(value='')))"
      ]
     },
     "metadata": {},
     "output_type": "display_data"
    },
    {
     "name": "stdout",
     "output_type": "stream",
     "text": [
      "\n"
     ]
    }
   ],
   "source": [
    "extractFeatures('/imagesThumbnails/tmp.tar', '/testFeatures_append.csv', 1)"
   ]
  },
  {
   "cell_type": "code",
   "execution_count": null,
   "metadata": {},
   "outputs": [],
   "source": []
  }
 ],
 "metadata": {
  "kernelspec": {
   "display_name": "Python 3",
   "language": "python",
   "name": "python3"
  },
  "language_info": {
   "codemirror_mode": {
    "name": "ipython",
    "version": 3
   },
   "file_extension": ".py",
   "mimetype": "text/x-python",
   "name": "python",
   "nbconvert_exporter": "python",
   "pygments_lexer": "ipython3",
   "version": "3.7.2"
  }
 },
 "nbformat": 4,
 "nbformat_minor": 2
}
